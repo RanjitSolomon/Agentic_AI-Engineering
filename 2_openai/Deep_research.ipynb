{
 "cells": [
  {
   "cell_type": "markdown",
   "id": "d5505f27-1564-4e32-8104-8f76617c32f7",
   "metadata": {},
   "source": [
    "# Deep Research\n",
    ">A Deep Research agent is broadly applicable to any business area, and to your own day-to-day activities. You can make use of this yourself"
   ]
  },
  {
   "cell_type": "code",
   "execution_count": 1,
   "id": "648fbd56-333d-4a20-87c4-985aea83bc82",
   "metadata": {},
   "outputs": [],
   "source": [
    "from agents import Agent, WebSearchTool, trace, Runner, gen_trace_id, function_tool\n",
    "from agents.model_settings import ModelSettings\n",
    "from pydantic import BaseModel\n",
    "from dotenv import load_dotenv\n",
    "import asyncio\n",
    "import sendgrid\n",
    "import os\n",
    "from sendgrid.helpers.mail import Mail, Email, To, Content\n",
    "from typing import Dict\n",
    "from IPython.display import display, Markdown"
   ]
  },
  {
   "cell_type": "code",
   "execution_count": 2,
   "id": "73d05fd9-3196-47a1-a613-091f43a8a6e0",
   "metadata": {},
   "outputs": [
    {
     "data": {
      "text/plain": [
       "True"
      ]
     },
     "execution_count": 2,
     "metadata": {},
     "output_type": "execute_result"
    }
   ],
   "source": [
    "load_dotenv(override=True)"
   ]
  },
  {
   "cell_type": "markdown",
   "id": "5f24ea78-d15c-4a0a-a4d9-aa66ce64d491",
   "metadata": {},
   "source": [
    "## OpenAI Hosted Tools\n",
    "\n",
    "OpenAI Agents SDK includes the following hosted tools:\n",
    "\n",
    "The `WebSearchTool` lets an agent search the web.  \n",
    "The `FileSearchTool` allows retrieving information from your OpenAI Vector Stores.  \n",
    "The `ComputerTool` allows automating computer use tasks like taking screenshots and clicking.\n",
    "\n",
    "### Important note - API charge of WebSearchTool\n",
    "\n",
    "This is costing me 2.5 cents per call for OpenAI WebSearchTool. That can add up to $2-$3 for the next 2 labs. We'll use low cost Search tools with other platforms, so feel free to skip running this if the cost is a concern.\n",
    "\n",
    "Costs are here: https://platform.openai.com/docs/pricing#web-search"
   ]
  },
  {
   "cell_type": "markdown",
   "id": "ad300fb9-8c19-4fef-b8e5-deb180904aba",
   "metadata": {},
   "source": [
    "\"Instructions\" from OpenAI.          \n",
    "tool=[WebSearchTool(search_context_size=\"low\"))], search_context_size=\"low\" is optional parameter. Search context size. 'Low' is cheaper. 'medium', 'high'         \n",
    "model_settings=ModelSettings(tool_choice=\"required\") Agent is required to run the tool.      "
   ]
  },
  {
   "cell_type": "code",
   "execution_count": 3,
   "id": "516703f6-5a4d-48fc-b45c-5aa694c7be0f",
   "metadata": {},
   "outputs": [],
   "source": [
    "INSTRUCTIONS = \"You are a research assistant. Given a search term, you search the web for that term and \\\n",
    "produce a concise summary of the results. The summary must 2-3 paragraphs and less than 300 \\\n",
    "words. Capture the main points. Write succintly, no need to have complete sentences or good \\\n",
    "grammar. This will be consumed by someone synthesizing a report, so it's vital you capture the \\\n",
    "essence and ignore any fluff. Do not include any additional commentary other than the summary itself.\"\n",
    "\n",
    "search_agent = Agent(\n",
    "    name=\"Search agent\",\n",
    "    instructions=INSTRUCTIONS,\n",
    "    tools=[WebSearchTool(search_context_size=\"low\")],\n",
    "    model=\"gpt-4o-mini\",\n",
    "    model_settings=ModelSettings(tool_choice=\"required\"),\n",
    ")"
   ]
  },
  {
   "cell_type": "code",
   "execution_count": 4,
   "id": "f89c0def-9aa3-4894-b2d6-0a914744f532",
   "metadata": {},
   "outputs": [
    {
     "data": {
      "text/markdown": [
       "As of May 2025, several AI agent frameworks have emerged, each offering unique capabilities for developing intelligent, autonomous systems. Notable among these are LangChain, AutoGen, CrewAI, LangGraph, and AutoAgent.\n",
       "\n",
       "**LangChain** is a versatile framework that enables developers to build applications by chaining together prompts, models, memory, and external tools. It supports multiple language models and integrates with various tools, facilitating the creation of complex workflows. Its modular design and extensive ecosystem make it a popular choice for developing custom AI applications. ([medium.com](https://medium.com/%40elisowski/top-ai-agent-frameworks-in-2025-9bcedab2e239?utm_source=openai))\n",
       "\n",
       "**AutoGen**, developed by Microsoft, focuses on multi-agent systems and code automation. It allows agents to communicate in natural language, coordinating tasks such as planning, development, and review. This conversational approach simplifies the creation of collaborative AI systems, enhancing productivity and efficiency. ([medium.com](https://medium.com/%40elisowski/top-ai-agent-frameworks-in-2025-9bcedab2e239?utm_source=openai))\n",
       "\n",
       "**CrewAI** emphasizes multi-agent collaboration, enabling the creation of teams of AI agents with specialized roles. This framework is designed for complex workflows requiring coordination and task delegation, making it suitable for applications in logistics, resource planning, and collaborative problem-solving. ([medium.com](https://medium.com/%40elisowski/top-ai-agent-frameworks-in-2025-9bcedab2e239?utm_source=openai))\n",
       "\n",
       "**LangGraph** extends LangChain by providing a graph-based structure for managing agent workflows. It supports complex stateful systems with advanced logic, including loops and conditional branching, and integrates with LangChain’s tools and models. This framework is ideal for applications requiring precise, sequential task execution, such as healthcare or supply chain management. ([lekha-bhan88.medium.com](https://lekha-bhan88.medium.com/top-5-agentic-ai-frameworks-to-watch-in-2025-9d51b2b652c0?utm_source=openai))\n",
       "\n",
       "**AutoAgent** offers a fully automated, zero-code framework for developing LLM agents. It enables users to create and deploy AI agents through natural language, making AI development accessible to those without technical expertise. Operating as an autonomous agent operating system, AutoAgent comprises components like agentic system utilities, an LLM-powered actionable engine, and a self-managing file system. ([arxiv.org](https://arxiv.org/abs/2502.05957?utm_source=openai))\n",
       "\n",
       "These frameworks represent the forefront of AI agent development, each contributing to the evolution of intelligent, autonomous systems across various domains. "
      ],
      "text/plain": [
       "<IPython.core.display.Markdown object>"
      ]
     },
     "metadata": {},
     "output_type": "display_data"
    }
   ],
   "source": [
    "message = \"Latest AI Agent frameworks in 2025\"\n",
    "\n",
    "with trace(\"Search\"):\n",
    "    result = await Runner.run(search_agent, message)\n",
    "\n",
    "display(Markdown(result.final_output))"
   ]
  },
  {
   "cell_type": "markdown",
   "id": "15bc7a5a-7be2-4fcc-9692-3f4fd6325afd",
   "metadata": {},
   "source": [
    "**LangChain**: Facilitates building applications powered by large language models (LLMs), simplifying complex workflows like context management and multi-step tasks. (<a href=\"https://www.curotec.com/\">curotec.com</a>)       \n",
    "**LangGraph**: Expands on LangChain, focusing on multi-agent systems that can collaborate and adapt, featuring coordination tools and visual graph-based workflows. (<a href=\"https://www.curotec.com/\">curotec.com</a>)        \n",
    "**CrewAI**: Designed for teamwork, its role-based architecture helps specialized agents work together effectively, offering dynamic task planning and conflict resolution. (<a href=\"https://www.curotec.com/\">curotec.com</a>)         \n",
    "**Microsoft Semantic Kernel**: Integrates traditional development tools with AI capabilities, supporting multiple languages and emphasizing security and compliance. (<a href=\"https://www.curotec.com/\">curotec.com</a>)       \n",
    "**Microsoft AutoGen**: Built for advanced multi-agent systems, offering flexibility and enhanced context management, with a modular architecture and human-in-the-loop capabilities. (<a href=\"https://www.curotec.com/\">curotec.com</a>)        \n",
    "**OpenAI Gym**: Widely used for reinforcement learning, offering diverse training environments for agents, from games to robotics. (<a href=\"https://www.curotec.com/\">curotec.com</a>)       \n",
    "**Rasa**: An open-source framework for developing customized conversational AI solutions, highly customizable and integrating with various platforms.  (<a href=\"https://www.curotec.com/\">curotec.com</a>)        \n",
    "**Jade (Java Agent Development Framework)**: A lightweight framework tailored for distributed systems, especially in IoT environments, with strong communication protocols for distributed systems.  (<a href=\"https://www.curotec.com/\">curotec.com</a>)       "
   ]
  },
  {
   "cell_type": "markdown",
   "id": "339e0cf4-670c-46f6-8d90-cae49f1dd5e3",
   "metadata": {},
   "source": [
    "### As always, take a look at the trace\n",
    "\n",
    "https://platform.openai.com/traces"
   ]
  },
  {
   "cell_type": "markdown",
   "id": "6ad980f6-93db-4257-98ac-99c20835d531",
   "metadata": {},
   "source": [
    "### We will now use Structured Outputs, and include a description of the fields  \n",
    "we're going to make heavier use of structured outputs than previously       \n",
    "planner_agent, is responsible for taking a query and coming up with a handful of searches, that it should run based on that query in order to do some deep research        \n",
    "No of search is set to 3. Bigger number will result in a better result but also increase the cost.      \n",
    "     \n",
    "Asking for a reason, something similar to reasoning style behavior, chain of thought prompting.      \n",
    "     \n",
    "WebSearchPlan, is a list of WebSearchItems"
   ]
  },
  {
   "cell_type": "code",
   "execution_count": 5,
   "id": "711a3ebf-0851-484a-a5c9-5a068059cc5c",
   "metadata": {},
   "outputs": [],
   "source": [
    "# See note above about cost of WebSearchTool\n",
    "\n",
    "HOW_MANY_SEARCHES = 3\n",
    "\n",
    "INSTRUCTIONS = f\"You are a helpful research assistant. Given a query, come up with a set of web searches \\\n",
    "to perform to best answer the query. Output {HOW_MANY_SEARCHES} terms to query for.\"\n",
    "\n",
    "\n",
    "class WebSearchItem(BaseModel):\n",
    "    reason: str\n",
    "    \"Your reasoning for why this search is important to the query.\"\n",
    "\n",
    "    query: str\n",
    "    \"The search term to use for the web search.\"\n",
    "\n",
    "\n",
    "class WebSearchPlan(BaseModel):\n",
    "    searches: list[WebSearchItem]\n",
    "    \"\"\"A list of web searches to perform to best answer the query.\"\"\"\n",
    "\n",
    "\n",
    "planner_agent = Agent(\n",
    "    name=\"PlannerAgent\",\n",
    "    instructions=INSTRUCTIONS,\n",
    "    model=\"gpt-4o-mini\",\n",
    "    output_type=WebSearchPlan,\n",
    ")"
   ]
  },
  {
   "cell_type": "code",
   "execution_count": 6,
   "id": "4d15afac-7c07-4ec5-9243-8e1ade47c268",
   "metadata": {},
   "outputs": [
    {
     "name": "stdout",
     "output_type": "stream",
     "text": [
      "searches=[WebSearchItem(reason='To find recent developments and emerging frameworks in AI agents for 2025.', query='latest AI agent frameworks 2025'), WebSearchItem(reason='To explore comparisons and features of popular AI agent frameworks in 2025.', query='best AI frameworks for agents 2025'), WebSearchItem(reason='To gather information on industry trends and predictions for AI agents in 2025.', query='AI agents technology trends 2025')]\n"
     ]
    }
   ],
   "source": [
    "message = \"Latest AI Agent frameworks in 2025\"\n",
    "\n",
    "with trace(\"Search\"):\n",
    "    result = await Runner.run(planner_agent, message)\n",
    "    print(result.final_output)"
   ]
  },
  {
   "cell_type": "markdown",
   "id": "f86ea30d-434a-4e54-a879-5a6731619713",
   "metadata": {},
   "source": [
    "What we get back is an object which has a field searches and field list is WebSearchItems with reason and query.     "
   ]
  },
  {
   "cell_type": "markdown",
   "id": "b520a264-90a2-4920-9a75-a811228c57a0",
   "metadata": {},
   "source": [
    "### Send Email"
   ]
  },
  {
   "cell_type": "markdown",
   "id": "710f65a6-ea68-45e2-8890-94394a33fe97",
   "metadata": {},
   "source": [
    "decorator, that will convert a function into a tool. "
   ]
  },
  {
   "cell_type": "code",
   "execution_count": 7,
   "id": "1e65c987-4a4e-471d-9ebb-3a99648720f5",
   "metadata": {},
   "outputs": [],
   "source": [
    "@function_tool\n",
    "def send_email(subject: str, html_body: str) -> Dict[str, str]:\n",
    "    \"\"\" Send out an email with the given subject and HTML body \"\"\"\n",
    "    sg = sendgrid.SendGridAPIClient(api_key=os.environ.get('SENDGRID_API_KEY'))\n",
    "    from_email = Email(\"rsolo@ranaa.ca\") # Change this to your verified email\n",
    "    to_email = To(\"ranjitsolo@yahoo.com\") # Change this to your email\n",
    "    content = Content(\"text/html\", html_body)\n",
    "    mail = Mail(from_email, to_email, subject, content).get()\n",
    "    response = sg.client.mail.send.post(request_body=mail)\n",
    "    return {\"status\": \"success\"}"
   ]
  },
  {
   "cell_type": "code",
   "execution_count": 8,
   "id": "b9b011e3-b2e5-41c3-8df3-64f26c2df082",
   "metadata": {},
   "outputs": [
    {
     "data": {
      "text/plain": [
       "FunctionTool(name='send_email', description='Send out an email with the given subject and HTML body', params_json_schema={'properties': {'subject': {'title': 'Subject', 'type': 'string'}, 'html_body': {'title': 'Html Body', 'type': 'string'}}, 'required': ['subject', 'html_body'], 'title': 'send_email_args', 'type': 'object', 'additionalProperties': False}, on_invoke_tool=<function function_tool.<locals>._create_function_tool.<locals>._on_invoke_tool at 0x0000023559DA6D40>, strict_json_schema=True)"
      ]
     },
     "execution_count": 8,
     "metadata": {},
     "output_type": "execute_result"
    }
   ],
   "source": [
    "send_email"
   ]
  },
  {
   "cell_type": "markdown",
   "id": "dfd02f96-dc9d-4fb8-bc9f-e56cf8f7f15d",
   "metadata": {},
   "source": [
    "email agent"
   ]
  },
  {
   "cell_type": "code",
   "execution_count": 9,
   "id": "664918aa-4770-446c-a48e-c1404080c455",
   "metadata": {},
   "outputs": [],
   "source": [
    "INSTRUCTIONS = \"\"\"You are able to send a nicely formatted HTML email based on a detailed report.\n",
    "You will be provided with a detailed report. You should use your tool to send one email, providing the \n",
    "report converted into clean, well presented HTML with an appropriate subject line.\"\"\"\n",
    "\n",
    "email_agent = Agent(\n",
    "    name=\"Email agent\",\n",
    "    instructions=INSTRUCTIONS,\n",
    "    tools=[send_email],\n",
    "    model=\"gpt-4o-mini\",\n",
    ")"
   ]
  },
  {
   "cell_type": "markdown",
   "id": "b42f2519-58b6-4cf5-a693-79d9f7a9d9dc",
   "metadata": {},
   "source": [
    "researcher agent    \n",
    "Pydantic object structured output"
   ]
  },
  {
   "cell_type": "code",
   "execution_count": 10,
   "id": "f537db4c-9ce2-4268-9d6a-04cf579adb8a",
   "metadata": {},
   "outputs": [],
   "source": [
    "INSTRUCTIONS = (\n",
    "    \"You are a senior researcher tasked with writing a cohesive report for a research query. \"\n",
    "    \"You will be provided with the original query, and some initial research done by a research assistant.\\n\"\n",
    "    \"You should first come up with an outline for the report that describes the structure and \"\n",
    "    \"flow of the report. Then, generate the report and return that as your final output.\\n\"\n",
    "    \"The final output should be in markdown format, and it should be lengthy and detailed. Aim \"\n",
    "    \"for 5-10 pages of content, at least 1000 words.\"\n",
    ")\n",
    "\n",
    "\n",
    "class ReportData(BaseModel):\n",
    "    short_summary: str\n",
    "    \"\"\"A short 2-3 sentence summary of the findings.\"\"\"\n",
    "\n",
    "    markdown_report: str\n",
    "    \"\"\"The final report\"\"\"\n",
    "\n",
    "    follow_up_questions: list[str]\n",
    "    \"\"\"Suggested topics to research further\"\"\"\n",
    "\n",
    "\n",
    "writer_agent = Agent(\n",
    "    name=\"WriterAgent\",\n",
    "    instructions=INSTRUCTIONS,\n",
    "    model=\"gpt-4o-mini\",\n",
    "    output_type=ReportData,\n",
    ")"
   ]
  },
  {
   "cell_type": "markdown",
   "id": "7911b1ae-e6a9-405d-84ca-8bf59bfbb11f",
   "metadata": {},
   "source": [
    "### The next 3 functions will plan and execute the search, using planner_agent and search_agent   \n",
    "First 3 out of 5 functions.     \n",
    "Execute a search using planner_agent and search_agent    \n",
    "      \n",
    "plan_searches, calls runner.run for passing planner_agent passing the query. This will comeback with number of searches. final output is returned.                 \n",
    "      \n",
    "perform_searches, actually going to do the searches for each. we're going to create a bunch of asyncio tasks to search for each item (search_plan is a pydantic object)    \n",
    "then use gather approach, tasks will run in parallel and assigned to results.     \n",
    "      \n",
    "search agent, reason and the query, run the search agent and get the results."
   ]
  },
  {
   "cell_type": "code",
   "execution_count": 11,
   "id": "6472badf-18d2-4569-a6b1-e76d0e7c5fcf",
   "metadata": {},
   "outputs": [],
   "source": [
    "async def plan_searches(query: str):\n",
    "    \"\"\" Use the planner_agent to plan which searches to run for the query \"\"\"\n",
    "    print(\"Planning searches...\")\n",
    "    result = await Runner.run(planner_agent, f\"Query: {query}\")\n",
    "    print(f\"Will perform {len(result.final_output.searches)} searches\")\n",
    "    return result.final_output\n",
    "\n",
    "async def perform_searches(search_plan: WebSearchPlan):\n",
    "    \"\"\" Call search() for each item in the search plan \"\"\"\n",
    "    print(\"Searching...\")\n",
    "    tasks = [asyncio.create_task(search(item)) for item in search_plan.searches]\n",
    "    results = await asyncio.gather(*tasks)\n",
    "    print(\"Finished searching\")\n",
    "    return results\n",
    "\n",
    "async def search(item: WebSearchItem):\n",
    "    \"\"\" Use the search agent to run a web search for each item in the search plan \"\"\"\n",
    "    input = f\"Search term: {item.query}\\nReason for searching: {item.reason}\"\n",
    "    result = await Runner.run(search_agent, input)\n",
    "    return result.final_output"
   ]
  },
  {
   "cell_type": "markdown",
   "id": "b185bcd9-1f22-4817-a07f-94cb263c3ef5",
   "metadata": {},
   "source": [
    "### The next 2 functions write a report and email it"
   ]
  },
  {
   "cell_type": "markdown",
   "id": "db866a09-c6d2-4725-8c93-4fff534c0ac2",
   "metadata": {},
   "source": [
    "two housekeeping functions, one of them to write the report and other to send email"
   ]
  },
  {
   "cell_type": "code",
   "execution_count": 12,
   "id": "8a76dd8c-2c1f-4ea3-a0c5-3eafc06e4b35",
   "metadata": {},
   "outputs": [],
   "source": [
    "async def write_report(query: str, search_results: list[str]):\n",
    "    \"\"\" Use the writer agent to write a report based on the search results\"\"\"\n",
    "    print(\"Thinking about report...\")\n",
    "    input = f\"Original query: {query}\\nSummarized search results: {search_results}\"\n",
    "    result = await Runner.run(writer_agent, input)\n",
    "    print(\"Finished writing report\")\n",
    "    return result.final_output\n",
    "\n",
    "async def send_email(report: ReportData):\n",
    "    \"\"\" Use the email agent to send an email with the report \"\"\"\n",
    "    print(\"Writing email...\")\n",
    "    result = await Runner.run(email_agent, report.markdown_report)\n",
    "    print(\"Email sent\")\n",
    "    return report"
   ]
  },
  {
   "cell_type": "markdown",
   "id": "f223b8ab-1aa7-4b3f-9e8f-f37d61565a2a",
   "metadata": {},
   "source": [
    "### Showtime!"
   ]
  },
  {
   "cell_type": "code",
   "execution_count": 13,
   "id": "a43230f0-1c36-4a6c-ba83-3c36a6480f3c",
   "metadata": {},
   "outputs": [
    {
     "name": "stdout",
     "output_type": "stream",
     "text": [
      "Starting research...\n",
      "Planning searches...\n",
      "Will perform 3 searches\n",
      "Searching...\n",
      "Finished searching\n",
      "Thinking about report...\n",
      "Finished writing report\n",
      "Writing email...\n",
      "Email sent\n",
      "Hooray!\n"
     ]
    }
   ],
   "source": [
    "query =\"Latest AI Agent frameworks in 2025\"\n",
    "\n",
    "with trace(\"Research trace\"):\n",
    "    print(\"Starting research...\")\n",
    "    search_plan = await plan_searches(query)\n",
    "    search_results = await perform_searches(search_plan)\n",
    "    report = await write_report(query, search_results)\n",
    "    await send_email(report)  \n",
    "    print(\"Hooray!\")"
   ]
  },
  {
   "cell_type": "code",
   "execution_count": null,
   "id": "8bcb1f70-8a9c-45f2-9c90-0ccaa0335f85",
   "metadata": {},
   "outputs": [],
   "source": []
  },
  {
   "cell_type": "code",
   "execution_count": null,
   "id": "5f32bb54-3487-484c-be52-f8822fc6fd2e",
   "metadata": {},
   "outputs": [],
   "source": []
  },
  {
   "cell_type": "code",
   "execution_count": null,
   "id": "6cd85705-fb00-47c6-98f2-e2f083181f2a",
   "metadata": {},
   "outputs": [],
   "source": []
  }
 ],
 "metadata": {
  "kernelspec": {
   "display_name": "Python 3 (ipykernel)",
   "language": "python",
   "name": "python3"
  },
  "language_info": {
   "codemirror_mode": {
    "name": "ipython",
    "version": 3
   },
   "file_extension": ".py",
   "mimetype": "text/x-python",
   "name": "python",
   "nbconvert_exporter": "python",
   "pygments_lexer": "ipython3",
   "version": "3.12.7"
  }
 },
 "nbformat": 4,
 "nbformat_minor": 5
}
