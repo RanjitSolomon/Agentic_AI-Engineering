{
 "cells": [
  {
   "cell_type": "markdown",
   "id": "8bd678a3-035e-49c4-ae29-776ba650621c",
   "metadata": {},
   "source": [
    "## AI Sales Agent   \n",
    "     \n",
    "We're going to build a simple Agent system for generating cold sales outreach emails:\n",
    "1. Agent workflow\n",
    "2. Use of tools to call functions\n",
    "3. Agent collaboration via Tools and Handoffs"
   ]
  },
  {
   "cell_type": "markdown",
   "id": "0e51e342-903b-4bd7-9fa3-592b76c877ce",
   "metadata": {},
   "source": [
    "Please set up an account      \n",
    "https://sendgrid.com/       \n",
    "(Sendgrid is a Twilio company for sending emails.)      \n",
    "Settings (left sidebar) >> API Keys >> Create API Key (button on top right)      \n",
    "Settings (left sidebar) >> Sender Authentication >> \"Verify a Single Sender\"      \n",
    "and verify that your own email address is a real email address, so that SendGrid can send emails for you.      \n",
    "(you can also use sparkpost)      \n",
    "       \n",
    "Website domain    \n",
    "(i.e. https://porkbun.com/)     \n"
   ]
  },
  {
   "cell_type": "markdown",
   "id": "aeffa850-8242-43a8-9c04-a57e12ab39c2",
   "metadata": {},
   "source": [
    "#### replace from/to email address before running (r@r)"
   ]
  },
  {
   "cell_type": "code",
   "execution_count": 1,
   "id": "3694f774-d5b8-448f-84ff-6f350893f54b",
   "metadata": {},
   "outputs": [],
   "source": [
    "from dotenv import load_dotenv\n",
    "from agents import Agent, Runner, trace, function_tool\n",
    "from openai.types.responses import ResponseTextDeltaEvent\n",
    "from typing import Dict\n",
    "import sendgrid\n",
    "import os\n",
    "from sendgrid.helpers.mail import Mail, Email, To, Content\n",
    "import asyncio"
   ]
  },
  {
   "cell_type": "code",
   "execution_count": 2,
   "id": "81c6da9f-8f91-43d4-8514-88217cd73596",
   "metadata": {},
   "outputs": [
    {
     "data": {
      "text/plain": [
       "True"
      ]
     },
     "execution_count": 2,
     "metadata": {},
     "output_type": "execute_result"
    }
   ],
   "source": [
    "load_dotenv(override=True)"
   ]
  },
  {
   "cell_type": "markdown",
   "id": "7d8cd5cc-5080-4864-8cb5-d266250f5f9f",
   "metadata": {},
   "source": [
    "## Step 1: Agent workflow"
   ]
  },
  {
   "cell_type": "markdown",
   "id": "58d01cd5-6822-49d9-907a-935f70c1d1f9",
   "metadata": {},
   "source": [
    "let's do a simple workflow between agents. Here we're just going to have some agents calling other agents, and we're going to orchestrate it manually ourselves in Python code.         "
   ]
  },
  {
   "cell_type": "code",
   "execution_count": 3,
   "id": "c60bace3-0825-4f6f-abd8-96aca770fbae",
   "metadata": {},
   "outputs": [],
   "source": [
    "instructions1 = \"You are a sales agent working for ComplAI, \\\n",
    "a company that provides a SaaS tool for ensuring SOC2 compliance and preparing for audits, powered by AI. \\\n",
    "You write professional, serious cold emails.\"\n",
    "\n",
    "instructions2 = \"You are a humorous, engaging sales agent working for ComplAI, \\\n",
    "a company that provides a SaaS tool for ensuring SOC2 compliance and preparing for audits, powered by AI. \\\n",
    "You write witty, engaging cold emails that are likely to get a response.\"\n",
    "\n",
    "instructions3 = \"You are a busy sales agent working for ComplAI, \\\n",
    "a company that provides a SaaS tool for ensuring SOC2 compliance and preparing for audits, powered by AI. \\\n",
    "You write concise, to the point cold emails.\""
   ]
  },
  {
   "cell_type": "markdown",
   "id": "ee179c21-7a6c-4976-9dc9-b9903313035b",
   "metadata": {},
   "source": [
    "We create three agents      \n",
    "working for \"ComplAI\" soc2 compliance company       \n",
    "(a cybersecurity compliance framework developed by the American Institute of Certified Public Accountants (AICPA). The primary purpose of SOC 2 is to ensure that third-party service providers store and process client data in a secure manner.)       "
   ]
  },
  {
   "cell_type": "code",
   "execution_count": 4,
   "id": "ce933fae-ff0f-4a0a-9b9a-1bc2dbb98a45",
   "metadata": {},
   "outputs": [],
   "source": [
    "sales_agent1 = Agent(\n",
    "        name=\"Professional Sales Agent\",\n",
    "        instructions=instructions1,\n",
    "        model=\"gpt-4o-mini\"\n",
    ")\n",
    "\n",
    "sales_agent2 = Agent(\n",
    "        name=\"Engaging Sales Agent\",\n",
    "        instructions=instructions2,\n",
    "        model=\"gpt-4o-mini\"\n",
    ")\n",
    "\n",
    "sales_agent3 = Agent(\n",
    "        name=\"Busy Sales Agent\",\n",
    "        instructions=instructions3,\n",
    "        model=\"gpt-4o-mini\"\n",
    ")"
   ]
  },
  {
   "cell_type": "markdown",
   "id": "1188bb00-2765-4c52-a32f-8ff20a1f195a",
   "metadata": {},
   "source": [
    "We looked at runner.run. Now, runner.run.streamed. This will stream back the results.      \n",
    "      \n",
    "There is no \"await\" keyword that means we are not getting a \"response\" but a \"co-routine\"       \n",
    "We use a special construct \"async\" will return a \"co-routine\" and iterate through those answeres.     \n",
    "Boilerplate code to make sure what is coming back is some text that we can print "
   ]
  },
  {
   "cell_type": "code",
   "execution_count": 5,
   "id": "85b270b4-75fe-4dc2-b4a7-9d4d1d7fea7f",
   "metadata": {},
   "outputs": [
    {
     "name": "stdout",
     "output_type": "stream",
     "text": [
      "Subject: Streamline Your SOC 2 Compliance with AI-Powered Solutions\n",
      "\n",
      "Dear [Recipient's Name],\n",
      "\n",
      "I hope this message finds you well. I'm reaching out to introduce you to ComplAI, an industry leader in simplifying SOC 2 compliance through our innovative SaaS platform.\n",
      "\n",
      "Navigating the complexities of compliance and audit preparation can be daunting, especially when managing operational efficiency. Our AI-driven tool not only automates key processes but also provides real-time insights that ensure your organization meets rigorous SOC 2 standards.\n",
      "\n",
      "Key benefits of using ComplAI include:\n",
      "\n",
      "- **Streamlined Documentation**: Automatically generate and maintain up-to-date documentation required for compliance.\n",
      "- **Audit Readiness**: Prepare for audits with confidence, reducing time and resources spent on compliance tasks.\n",
      "- **Real-Time Monitoring**: Gain actionable insights and alerts, helping you stay on top of compliance requirements.\n",
      "\n",
      "I would love to schedule a brief call to discuss how ComplAI can support your compliance efforts and drive operational efficiencies within your organization. Please let me know a time that works for you next week.\n",
      "\n",
      "Thank you for considering ComplAI. I look forward to the opportunity to connect.\n",
      "\n",
      "Best regards,\n",
      "\n",
      "[Your Name]  \n",
      "[Your Job Title]  \n",
      "ComplAI  \n",
      "[Your Phone Number]  \n",
      "[Your Email Address]  \n",
      "[Website URL]  "
     ]
    }
   ],
   "source": [
    "result = Runner.run_streamed(sales_agent1, input=\"Write a cold sales email\")\n",
    "async for event in result.stream_events():\n",
    "    if event.type == \"raw_response_event\" and isinstance(event.data, ResponseTextDeltaEvent):\n",
    "        print(event.data.delta, end=\"\", flush=True)"
   ]
  },
  {
   "cell_type": "markdown",
   "id": "74142ff4-00db-4664-8f16-acc685011a3a",
   "metadata": {},
   "source": [
    "We are calling \"asyncio\"       \n",
    "We are running three different runs at the same time, not multithreading but using an event loop which will run each one when it is pausing/waiting on one.      \n",
    "Alternate talking to a LLM and collect back the results and what comes back is a collection of results      \n",
    "      \n",
    "Also note the \"trace\" wrapped into one, "
   ]
  },
  {
   "cell_type": "code",
   "execution_count": 6,
   "id": "f978cc14-fe18-4f4d-bdc9-e8853b37bfd6",
   "metadata": {},
   "outputs": [
    {
     "name": "stdout",
     "output_type": "stream",
     "text": [
      "Subject: Simplify Your SOC 2 Compliance Journey with ComplAI\n",
      "\n",
      "Hi [Recipient's Name],\n",
      "\n",
      "I hope this message finds you well.\n",
      "\n",
      "As companies face increasing scrutiny regarding data security, ensuring SOC 2 compliance has become pivotal. However, the complexities of preparing for audits can often consume valuable resources and time.\n",
      "\n",
      "At ComplAI, we’ve developed a cutting-edge SaaS tool specifically designed to streamline the SOC 2 compliance process. Powered by AI, our platform simplifies the management of documentation, automates evidence collection, and provides real-time insights into your compliance status. This allows your team to focus on what truly matters – growing your business.\n",
      "\n",
      "Here are a few ways ComplAI can support your compliance efforts:\n",
      "\n",
      "- **Automated Documentation**: Reduce manual effort and minimize errors with our intuitive documentation tools.\n",
      "- **Real-Time Monitoring**: Stay ahead of compliance requirements with continuous monitoring and alerts.\n",
      "- **Audit Preparedness**: Ensure you are always audit-ready, reducing the stress and time associated with last-minute preparations.\n",
      "\n",
      "I would love the opportunity to discuss how ComplAI can help your organization achieve seamless SOC 2 compliance. Would you be open to a brief call next week?\n",
      "\n",
      "Thank you for your time, and I look forward to the possibility of collaborating.\n",
      "\n",
      "Best regards,\n",
      "\n",
      "[Your Name]  \n",
      "[Your Job Title]  \n",
      "ComplAI  \n",
      "[Your Phone Number]  \n",
      "[Your Email Address]  \n",
      "[Company Website]  \n",
      "\n",
      "\n",
      "Subject: Is Your SOC2 Compliance Giving You Nightmares? 😴💤\n",
      "\n",
      "Hi [Recipient's Name],\n",
      "\n",
      "Do your audits feel like an episode of a reality show where the stakes are high and the drama is thick? 😬 If so, you’re not alone!\n",
      "\n",
      "At ComplAI, we believe that preparing for SOC2 compliance shouldn’t resemble a rollercoaster ride — thrilling but full of anxiety (and potential paperwork casualties)! 🎢✍️ \n",
      "\n",
      "Imagine this: an AI-powered sidekick that helps you glide through the compliance process like a pro surfer riding a sweet wave. 🌊 Our SaaS tool ensures your SOC2 compliance is smoother than a freshly buttered slip ‘n slide. \n",
      "\n",
      "Here’s what we can do for you:\n",
      "- **Automate the boring stuff** - so you can focus on, you know, actual work.\n",
      "- **Prepare for audits with ease** - because who doesn’t love less stress?\n",
      "- **Stay compliant** - and turn your compliance headaches into compliance high-fives! 🙌\n",
      "\n",
      "Let’s chat about how we can make your compliance journey feel less like climbing a mountain and more like a leisurely stroll in the park. Just hit reply and let me know when you’re free.\n",
      "\n",
      "Looking forward to helping you transform compliance chaos into a calm ocean of organized bliss! 🌊\n",
      "\n",
      "Best,  \n",
      "[Your Name]  \n",
      "The Compliance Enthusiast at ComplAI  \n",
      "[Your Contact Information]  \n",
      "\n",
      "\n",
      "Subject: Simplify Your SOC 2 Compliance with AI\n",
      "\n",
      "Hi [Recipient's Name],\n",
      "\n",
      "I hope this message finds you well! I'm reaching out to introduce ComplAI, a powerful SaaS tool designed to streamline SOC 2 compliance and audit preparations.\n",
      "\n",
      "With our AI-driven platform, you can:\n",
      "\n",
      "- Easily manage compliance requirements\n",
      "- Automate documentation and reporting\n",
      "- Prepare efficiently for audits with confidence\n",
      "\n",
      "Let's schedule a quick call to discuss how we can help simplify your compliance process. \n",
      "\n",
      "Best,\n",
      "[Your Name]  \n",
      "[Your Position]  \n",
      "ComplAI  \n",
      "[Your Contact Information]  \n",
      "\n",
      "\n"
     ]
    }
   ],
   "source": [
    "# import asyncio \n",
    "\n",
    "message = \"Write a cold sales email\"\n",
    "\n",
    "with trace(\"Parallel cold emails\"):\n",
    "    results = await asyncio.gather(\n",
    "        Runner.run(sales_agent1, message),\n",
    "        Runner.run(sales_agent2, message),\n",
    "        Runner.run(sales_agent3, message),\n",
    "    )\n",
    "\n",
    "outputs = [result.final_output for result in results]\n",
    "\n",
    "for output in outputs:\n",
    "    print(output + \"\\n\\n\")"
   ]
  },
  {
   "cell_type": "markdown",
   "id": "a659292b-7a12-4a8b-a2ce-8e321fe42e9e",
   "metadata": {},
   "source": [
    "We are creating a new agent \"Sales_picker\"  to pick the best email"
   ]
  },
  {
   "cell_type": "code",
   "execution_count": 7,
   "id": "64bba75c-6311-4073-8b1c-17624f300416",
   "metadata": {},
   "outputs": [],
   "source": [
    "sales_picker = Agent(\n",
    "    name=\"sales_picker\",\n",
    "    instructions=\"You pick the best cold sales email from the given options. \\\n",
    "Imagine you are a customer and pick the one you are most likely to respond to. \\\n",
    "Do not give an explanation; reply with the selected email only.\",\n",
    ")"
   ]
  },
  {
   "cell_type": "markdown",
   "id": "25dd3e24-1fa4-4790-a2a4-714cdae9db9b",
   "metadata": {},
   "source": [
    "We have this same construct, we are going to run three agents in parallel and gather the outputs and then call another agent and select the best email and print    \n",
    "Again, all under one trace"
   ]
  },
  {
   "cell_type": "code",
   "execution_count": 8,
   "id": "0e7b2287-23cf-4722-b10c-0e286692ffe8",
   "metadata": {},
   "outputs": [
    {
     "name": "stdout",
     "output_type": "stream",
     "text": [
      "Best sales email:\n",
      "Subject: Make SOC2 Compliance as Easy as Pie (or Cake, Your Pick!)\n",
      "\n",
      "Hey [Recipient's Name],\n",
      "\n",
      "Ever felt like achieving SOC2 compliance is akin to deciphering the Rosetta Stone—only with more paperwork and fewer hieroglyphics? 🤔\n",
      "\n",
      "Well, you're not alone! At ComplAI, we’ve transformed the compliance process into a smooth, breezy ride powered by the magic of AI. 🪄✨\n",
      "\n",
      "Imagine having a trusty sidekick (no cape required) that not only helps you prepare for audits but also keeps you SOC2 compliant while you focus on what you do best: running your business!\n",
      "\n",
      "**Here’s what we bring to the table:**\n",
      "- **Automagical Documentation:** Say goodbye to endless spreadsheets—our tool takes the grunt work off your plate. 🥳\n",
      "- **Real-time Compliance Monitoring:** No more last-minute panic! We’ll keep an eye on everything, so you don’t have to. ⏰\n",
      "- **Audit Prep Made Fun:** (Well, as fun as compliance can be!) Our platform will guide you through the audit process with ease.\n",
      "\n",
      "Interested in a quick chat? I promise to keep the compliance jargon to a minimum… unless you’re into that sort of thing! \n",
      "\n",
      "Let me know a time that works for you, and let’s make compliance as easy as pie (or cake—no judgment here!).\n",
      "\n",
      "Cheers,  \n",
      "[Your Name]  \n",
      "[Your Position]  \n",
      "ComplAI  \n",
      "[Your Contact Information]  \n",
      "P.S. I hear AI never forgets—kind of like your grandma, but less likely to bake cookies. 🍪\n"
     ]
    }
   ],
   "source": [
    "message = \"Write a cold sales email\"\n",
    "\n",
    "with trace(\"Selection from sales people\"):\n",
    "    results = await asyncio.gather(\n",
    "        Runner.run(sales_agent1, message),\n",
    "        Runner.run(sales_agent2, message),\n",
    "        Runner.run(sales_agent3, message),\n",
    "    )\n",
    "    outputs = [result.final_output for result in results]\n",
    "\n",
    "    emails = \"Cold sales emails:\\n\\n\".join(outputs)\n",
    "\n",
    "    best = await Runner.run(sales_picker, emails)\n",
    "\n",
    "    print(f\"Best sales email:\\n{best.final_output}\")"
   ]
  },
  {
   "cell_type": "markdown",
   "id": "7d9c1255-a3e5-46f5-9c7c-f23aaa595d0d",
   "metadata": {},
   "source": [
    "Now go and check out the trace:\n",
    "\n",
    "https://platform.openai.com/traces"
   ]
  },
  {
   "cell_type": "markdown",
   "id": "7e78c589-9c47-4e38-86ad-e896bd339606",
   "metadata": {},
   "source": [
    "## Part 2: use of tools\n",
    "\n",
    "Now we will add a tool to the mix.\n",
    "\n",
    "Remember all that json boilerplate and the `handle_tool_calls()` function with the if logic.."
   ]
  },
  {
   "cell_type": "code",
   "execution_count": 9,
   "id": "30c1cedf-1311-4fef-abfd-e0c5c1e25c1d",
   "metadata": {},
   "outputs": [],
   "source": [
    "sales_agent1 = Agent(\n",
    "        name=\"Professional Sales Agent\",\n",
    "        instructions=instructions1,\n",
    "        model=\"gpt-4o-mini\",\n",
    ")\n",
    "\n",
    "sales_agent2 = Agent(\n",
    "        name=\"Engaging Sales Agent\",\n",
    "        instructions=instructions2,\n",
    "        model=\"gpt-4o-mini\",\n",
    ")\n",
    "\n",
    "sales_agent3 = Agent(\n",
    "        name=\"Busy Sales Agent\",\n",
    "        instructions=instructions3,\n",
    "        model=\"gpt-4o-mini\",\n",
    ")"
   ]
  },
  {
   "cell_type": "markdown",
   "id": "4a4c182a-77c8-4694-bb87-e20e01b2fbe6",
   "metadata": {},
   "source": [
    "If we look at one agent,       \n",
    "it's got a name (name='Professional Sales Agent'), instructions (instructions='You are a sales agent ... ). and you can see that it has things like tool choice (tool_choice=None) tools, and it has like a list of tools (tools=[]) that it has access to but right now it is empty. "
   ]
  },
  {
   "cell_type": "code",
   "execution_count": 10,
   "id": "2959739a-7842-437e-ab7a-c35764b50978",
   "metadata": {},
   "outputs": [
    {
     "data": {
      "text/plain": [
       "Agent(name='Professional Sales Agent', instructions='You are a sales agent working for ComplAI, a company that provides a SaaS tool for ensuring SOC2 compliance and preparing for audits, powered by AI. You write professional, serious cold emails.', handoff_description=None, handoffs=[], model='gpt-4o-mini', model_settings=ModelSettings(temperature=None, top_p=None, frequency_penalty=None, presence_penalty=None, tool_choice=None, parallel_tool_calls=None, truncation=None, max_tokens=None, reasoning=None, metadata=None, store=None), tools=[], mcp_servers=[], mcp_config={}, input_guardrails=[], output_guardrails=[], output_type=None, hooks=None, tool_use_behavior='run_llm_again', reset_tool_choice=True)"
      ]
     },
     "execution_count": 10,
     "metadata": {},
     "output_type": "execute_result"
    }
   ],
   "source": [
    "sales_agent1"
   ]
  },
  {
   "cell_type": "markdown",
   "id": "969e25db-a6c0-4e88-a08f-b5638f85807f",
   "metadata": {},
   "source": [
    "## Steps 2 and 3: Tools and Agent interactions\n",
    "\n",
    "Remember all that boilerplate json?\n",
    "\n",
    "Simply wrap your function with the decorator `@function_tool`"
   ]
  },
  {
   "cell_type": "markdown",
   "id": "1acce8bc-86a7-41fd-b451-de23006b0045",
   "metadata": {},
   "source": [
    "This tool/function sends email \"send_email\". email boyd is a string, doc string. sends out an email with the given body to all sal3s prospects.       \n",
    "     \n",
    "from_email, verified sender set up in SendGrid      \n",
    "to_email, recipient      \n",
    "      \n",
    "SendGrid API - sg = sendgrid.SendGridAPIClient(api_key=os.environ.get('SENDGRID_API_KEY'))       \n",
    "response = sg.client.mail.send.post(request_body=mail)      \n",
    "      \n",
    "add a decorator \"@function_tool\" that allows OpenAI to write some code with the \"send_email\" function"
   ]
  },
  {
   "cell_type": "code",
   "execution_count": 11,
   "id": "51a2d772-c003-476d-8ee5-468b32ef8ddb",
   "metadata": {},
   "outputs": [],
   "source": [
    "@function_tool\n",
    "def send_email(body: str):\n",
    "    \"\"\" Send out an email with the given body to all sales prospects \"\"\"\n",
    "    sg = sendgrid.SendGridAPIClient(api_key=os.environ.get('SENDGRID_API_KEY'))\n",
    "    from_email = Email(\"r@r.com\")  # Change to your verified sender\n",
    "    to_email = To(\"r@yahoo.com\")  # Change to your recipient\n",
    "    content = Content(\"text/plain\", body)\n",
    "    mail = Mail(from_email, to_email, \"Sales email\", content).get()\n",
    "    response = sg.client.mail.send.post(request_body=mail)\n",
    "    return {\"status\": \"success\"}"
   ]
  },
  {
   "cell_type": "markdown",
   "id": "c5170f0f-64c3-488a-9d05-53178a1b6b55",
   "metadata": {},
   "source": [
    "### This has automatically been converted into a tool, with the boilerplate json created"
   ]
  },
  {
   "cell_type": "markdown",
   "id": "14d33011-81de-42ee-98f2-9ebc4236d8dc",
   "metadata": {},
   "source": [
    "It has a name \"send_email\" and a description that is taken from doc string.      \n",
    "And then \" params_json_schema ...\" this is a boilerplate JSON that we were manually adding it previously"
   ]
  },
  {
   "cell_type": "code",
   "execution_count": 12,
   "id": "27527c7f-1576-4626-9727-b40618e9b566",
   "metadata": {},
   "outputs": [
    {
     "data": {
      "text/plain": [
       "FunctionTool(name='send_email', description='Send out an email with the given body to all sales prospects', params_json_schema={'properties': {'body': {'title': 'Body', 'type': 'string'}}, 'required': ['body'], 'title': 'send_email_args', 'type': 'object', 'additionalProperties': False}, on_invoke_tool=<function function_tool.<locals>._create_function_tool.<locals>._on_invoke_tool at 0x00000214DD7B23E0>, strict_json_schema=True)"
      ]
     },
     "execution_count": 12,
     "metadata": {},
     "output_type": "execute_result"
    }
   ],
   "source": [
    "# Let's look at it\n",
    "send_email "
   ]
  },
  {
   "cell_type": "markdown",
   "id": "b4b9b7aa-b437-4b64-9db7-b73c204adc6c",
   "metadata": {},
   "source": [
    "### And you can also convert an Agent into a tool"
   ]
  },
  {
   "cell_type": "markdown",
   "id": "cac87304-7eca-4bdc-85bb-d6281e18d2ee",
   "metadata": {},
   "source": [
    "We have already turned a function into a tool.        \n",
    "Whole agent can also be turned into a tool       "
   ]
  },
  {
   "cell_type": "code",
   "execution_count": 13,
   "id": "f4fec367-c847-4e90-bfb7-fb339e8b2692",
   "metadata": {},
   "outputs": [
    {
     "data": {
      "text/plain": [
       "FunctionTool(name='sales_agent1', description='Write a cold sales email', params_json_schema={'properties': {'input': {'title': 'Input', 'type': 'string'}}, 'required': ['input'], 'title': 'sales_agent1_args', 'type': 'object', 'additionalProperties': False}, on_invoke_tool=<function function_tool.<locals>._create_function_tool.<locals>._on_invoke_tool at 0x00000214DD9284A0>, strict_json_schema=True)"
      ]
     },
     "execution_count": 13,
     "metadata": {},
     "output_type": "execute_result"
    }
   ],
   "source": [
    "tool1 = sales_agent1.as_tool(tool_name=\"sales_agent1\", tool_description=\"Write a cold sales email\")\n",
    "tool1"
   ]
  },
  {
   "cell_type": "markdown",
   "id": "dc9376ab-83bd-4dee-9509-d2220e22da14",
   "metadata": {},
   "source": [
    "### So now we can gather all the tools together:\n",
    "\n",
    "A tool for each of our 3 email-writing agents\n",
    "\n",
    "And a tool for our function to send emails"
   ]
  },
  {
   "cell_type": "code",
   "execution_count": 14,
   "id": "500d259b-12cf-404f-bf9d-c17aae6d51df",
   "metadata": {},
   "outputs": [
    {
     "data": {
      "text/plain": [
       "[FunctionTool(name='sales_agent1', description='Write a cold sales email', params_json_schema={'properties': {'input': {'title': 'Input', 'type': 'string'}}, 'required': ['input'], 'title': 'sales_agent1_args', 'type': 'object', 'additionalProperties': False}, on_invoke_tool=<function function_tool.<locals>._create_function_tool.<locals>._on_invoke_tool at 0x00000214DD8A65C0>, strict_json_schema=True),\n",
       " FunctionTool(name='sales_agent2', description='Write a cold sales email', params_json_schema={'properties': {'input': {'title': 'Input', 'type': 'string'}}, 'required': ['input'], 'title': 'sales_agent2_args', 'type': 'object', 'additionalProperties': False}, on_invoke_tool=<function function_tool.<locals>._create_function_tool.<locals>._on_invoke_tool at 0x00000214DD901DA0>, strict_json_schema=True),\n",
       " FunctionTool(name='sales_agent3', description='Write a cold sales email', params_json_schema={'properties': {'input': {'title': 'Input', 'type': 'string'}}, 'required': ['input'], 'title': 'sales_agent3_args', 'type': 'object', 'additionalProperties': False}, on_invoke_tool=<function function_tool.<locals>._create_function_tool.<locals>._on_invoke_tool at 0x00000214DD8B6CA0>, strict_json_schema=True),\n",
       " FunctionTool(name='send_email', description='Send out an email with the given body to all sales prospects', params_json_schema={'properties': {'body': {'title': 'Body', 'type': 'string'}}, 'required': ['body'], 'title': 'send_email_args', 'type': 'object', 'additionalProperties': False}, on_invoke_tool=<function function_tool.<locals>._create_function_tool.<locals>._on_invoke_tool at 0x00000214DD7B23E0>, strict_json_schema=True)]"
      ]
     },
     "execution_count": 14,
     "metadata": {},
     "output_type": "execute_result"
    }
   ],
   "source": [
    "description = \"Write a cold sales email\"\n",
    "\n",
    "tool1 = sales_agent1.as_tool(tool_name=\"sales_agent1\", tool_description=description)\n",
    "tool2 = sales_agent2.as_tool(tool_name=\"sales_agent2\", tool_description=description)\n",
    "tool3 = sales_agent3.as_tool(tool_name=\"sales_agent3\", tool_description=description)\n",
    "\n",
    "tools = [tool1, tool2, tool3, send_email]\n",
    "\n",
    "tools"
   ]
  },
  {
   "cell_type": "markdown",
   "id": "cc2ee70d-768c-4b99-bf94-70966012e90d",
   "metadata": {},
   "source": [
    "## And now it's time for our Sales Manager - our planning agent"
   ]
  },
  {
   "cell_type": "code",
   "execution_count": 15,
   "id": "8f9f5bb8-1beb-4d09-85b5-99aea9ca4c75",
   "metadata": {},
   "outputs": [],
   "source": [
    "instructions =\"You are a sales manager working for ComplAI. You use the tools given to you to generate cold sales emails. \\\n",
    "You never generate sales emails yourself; you always use the tools. \\\n",
    "You try all 3 sales_agent tools once before choosing the best one. \\\n",
    "You pick the single best email and use the send_email tool to send the best email (and only the best email) to the user.\"\n",
    "\n",
    "\n",
    "sales_manager = Agent(name=\"Sales Manager\", instructions=instructions, tools=tools, model=\"gpt-4o-mini\")\n",
    "\n",
    "message = \"Send a cold sales email addressed to 'Dear CEO'\"\n",
    "\n",
    "with trace(\"Sales manager\"):\n",
    "    result = await Runner.run(sales_manager, message)"
   ]
  },
  {
   "cell_type": "markdown",
   "id": "1d543746-940e-42b3-a378-b2cfb02026a2",
   "metadata": {},
   "source": [
    "### Remember to check the trace\n",
    "\n",
    "https://platform.openai.com/traces\n",
    "\n",
    "And then check your email!!"
   ]
  },
  {
   "cell_type": "markdown",
   "id": "ea239bab-4894-4256-b4bd-ce36a6a69a06",
   "metadata": {},
   "source": [
    "### Handoffs represent a way an agent can delegate to an agent, passing control to it\n",
    "\n",
    "Handoffs and Agents-as-tools are similar:\n",
    "\n",
    "In both cases, an Agent can collaborate with another Agent\n",
    "\n",
    "With tools, control passes back\n",
    "\n",
    "With handoffs, control passes across"
   ]
  },
  {
   "cell_type": "markdown",
   "id": "fd2fe711-c6a5-4c05-813f-24c58f7b12ce",
   "metadata": {},
   "source": [
    "### Summary"
   ]
  },
  {
   "cell_type": "markdown",
   "id": "0a389b62-81e7-43a8-9246-36d026514cdb",
   "metadata": {},
   "source": [
    "We first just used agents to write Python code so that agents could run. We sort of used the async gather so that we could run multiple in parallel and then we used another agent afterwards to pick the best email.    \n",
    "     \n",
    "We then use tools to wrap a function so that we could have an agent that calls a function and we also used the as tool construct so that we could wrap other agents to be a tool and we provided all of those tools to our sales manager agent and we let it call three different email producers and then finally send the email at the end..       \n",
    "      \n",
    "A **hand-off** is something that you can give an agent. An agent has a number of tools, and a number of handoffs, and handoffs are other agents that it can delegate to. So in many ways, that sounds really similar to taking an agent and wrapping it as a tool.      \n",
    "      \n",
    "An agent as tool is very similar to a handoff. There's a kind of conceptual difference and and a very practical difference.The conceptual difference is that you can you can sort of think of it like there's an agent which either has just the ability to use tools as part of doing its job, or handoff is when it's delegating. It's sort of giving giving responsibility and ownership of a specialist task to another agent.      \n",
    "      \n",
    "But there's a more sort of fundamental, simple technical difference between them. When you're using tools, you can think of that more as a request response. You're calling the tool and control passes back to you, and you continue as the main agent executing      \n",
    "     \n",
    "in the case of handoffs. You've done your piece, and you are now passing control to the other agent, and the flow does not come back to you again.       \n",
    "       \n"
   ]
  },
  {
   "cell_type": "markdown",
   "id": "14729dd6-3fd6-4f3b-a879-f670ee9a3353",
   "metadata": {},
   "source": [
    "#### And now we're going to make a new agent that eventually is going to be a handoff     \n",
    "     \n",
    "An agent to write a subject for emails      \n",
    "       \n",
    "Another instruction is to convert a text email to an HTML email. Body of email might have markdown and needs to converted to HTML email with simple, clear, compelling layout and design.    \n",
    "     \n",
    "So we're then going to make an agent for the subject writer with those instructions. And we're going to use the as tool approach. This time we're going to make this a tool because it sounds like a tool right. It's just a tool to write a subject.    \n",
    "      \n",
    "Similarly for the HTML converter, as a tool.      "
   ]
  },
  {
   "cell_type": "code",
   "execution_count": 16,
   "id": "b829a2e2-1f8e-4859-9059-0fab6d4dec98",
   "metadata": {},
   "outputs": [],
   "source": [
    "subject_instructions = \"You can write a subject for a cold sales email. \\\n",
    "You are given a message and you need to write a subject for an email that is likely to get a response.\"\n",
    "\n",
    "html_instructions = \"You can convert a text email body to an HTML email body. \\\n",
    "You are given a text email body which might have some markdown \\\n",
    "and you need to convert it to an HTML email body with simple, clear, compelling layout and design.\"\n",
    "\n",
    "subject_writer = Agent(name=\"Email subject writer\", instructions=subject_instructions, model=\"gpt-4o-mini\")\n",
    "subject_tool = subject_writer.as_tool(tool_name=\"subject_writer\", tool_description=\"Write a subject for a cold sales email\")\n",
    "\n",
    "html_converter = Agent(name=\"HTML email body converter\", instructions=html_instructions, model=\"gpt-4o-mini\")\n",
    "html_tool = html_converter.as_tool(tool_name=\"html_converter\",tool_description=\"Convert a text email body to an HTML email body\")"
   ]
  },
  {
   "cell_type": "markdown",
   "id": "0005b772-40fe-4a1e-a4bf-d5212441aca9",
   "metadata": {},
   "source": [
    "And then we are going to have one more tool which sends email with subject and body.    "
   ]
  },
  {
   "cell_type": "code",
   "execution_count": 17,
   "id": "76feb89a-faae-445c-ac38-b98c94bed129",
   "metadata": {},
   "outputs": [],
   "source": [
    "@function_tool\n",
    "def send_html_email(subject: str, html_body: str) -> Dict[str, str]:\n",
    "    \"\"\" Send out an email with the given subject and HTML body to all sales prospects \"\"\"\n",
    "    sg = sendgrid.SendGridAPIClient(api_key=os.environ.get('SENDGRID_API_KEY'))\n",
    "    from_email = Email(\"r@rcom\")  # Change to your verified sender\n",
    "    to_email = To(\"r@yahoo.com\")  # Change to your recipient\n",
    "    content = Content(\"text/html\", html_body)\n",
    "    mail = Mail(from_email, to_email, subject, content).get()\n",
    "    response = sg.client.mail.send.post(request_body=mail)\n",
    "    return {\"status\": \"success\"}"
   ]
  },
  {
   "cell_type": "markdown",
   "id": "3c4edc82-9822-400b-94dc-da7d93da2c03",
   "metadata": {},
   "source": [
    "Three tools, two are agents and one is just a function.           \n",
    "Agents       \n",
    "- \"Subject Writer\"      \n",
    "- \"HTML converter\"     \n",
    "Function        \n",
    "- \"Send html email\" "
   ]
  },
  {
   "cell_type": "code",
   "execution_count": 18,
   "id": "fde396c3-1920-4b8a-b64b-0612c534d4f8",
   "metadata": {},
   "outputs": [],
   "source": [
    "tools = [subject_tool, html_tool, send_html_email]"
   ]
  },
  {
   "cell_type": "code",
   "execution_count": 19,
   "id": "cdfe87d2-ac89-4ec8-950b-cbfe267c9224",
   "metadata": {},
   "outputs": [
    {
     "data": {
      "text/plain": [
       "[FunctionTool(name='subject_writer', description='Write a subject for a cold sales email', params_json_schema={'properties': {'input': {'title': 'Input', 'type': 'string'}}, 'required': ['input'], 'title': 'subject_writer_args', 'type': 'object', 'additionalProperties': False}, on_invoke_tool=<function function_tool.<locals>._create_function_tool.<locals>._on_invoke_tool at 0x00000214DD901300>, strict_json_schema=True),\n",
       " FunctionTool(name='html_converter', description='Convert a text email body to an HTML email body', params_json_schema={'properties': {'input': {'title': 'Input', 'type': 'string'}}, 'required': ['input'], 'title': 'html_converter_args', 'type': 'object', 'additionalProperties': False}, on_invoke_tool=<function function_tool.<locals>._create_function_tool.<locals>._on_invoke_tool at 0x00000214DD95A520>, strict_json_schema=True),\n",
       " FunctionTool(name='send_html_email', description='Send out an email with the given subject and HTML body to all sales prospects', params_json_schema={'properties': {'subject': {'title': 'Subject', 'type': 'string'}, 'html_body': {'title': 'Html Body', 'type': 'string'}}, 'required': ['subject', 'html_body'], 'title': 'send_html_email_args', 'type': 'object', 'additionalProperties': False}, on_invoke_tool=<function function_tool.<locals>._create_function_tool.<locals>._on_invoke_tool at 0x00000214DD928860>, strict_json_schema=True)]"
      ]
     },
     "execution_count": 19,
     "metadata": {},
     "output_type": "execute_result"
    }
   ],
   "source": [
    "tools"
   ]
  },
  {
   "cell_type": "markdown",
   "id": "42fa118a-1a54-4f8c-8f2b-cb46e68ce921",
   "metadata": {},
   "source": [
    "So now we are going to create a separate agent that we want to hand off to.        \n",
    "It has hands off description.     "
   ]
  },
  {
   "cell_type": "code",
   "execution_count": 20,
   "id": "0a931ad3-35df-481a-817c-3440f6af5ca8",
   "metadata": {},
   "outputs": [],
   "source": [
    "instructions =\"You are an email formatter and sender. You receive the body of an email to be sent. \\\n",
    "You first use the subject_writer tool to write a subject for the email, then use the html_converter tool to convert the body to HTML. \\\n",
    "Finally, you use the send_html_email tool to send the email with the subject and HTML body.\"\n",
    "\n",
    "\n",
    "emailer_agent = Agent(\n",
    "    name=\"Email Manager\",\n",
    "    instructions=instructions,\n",
    "    tools=tools,\n",
    "    model=\"gpt-4o-mini\",\n",
    "    handoff_description=\"Convert an email to HTML and send it\")"
   ]
  },
  {
   "cell_type": "markdown",
   "id": "2e75bb66-46e2-49c7-8484-64bb4484532b",
   "metadata": {},
   "source": [
    "### Now we have 3 tools and 1 handoff \n",
    "      \n",
    "Tools - Three sales agents    \n",
    "handoffs - this itself has three tools, subject writer, HTML converter and send email "
   ]
  },
  {
   "cell_type": "code",
   "execution_count": 21,
   "id": "188b6d41-46ce-4f22-9c02-f8614765d338",
   "metadata": {},
   "outputs": [
    {
     "name": "stdout",
     "output_type": "stream",
     "text": [
      "[FunctionTool(name='sales_agent1', description='Write a cold sales email', params_json_schema={'properties': {'input': {'title': 'Input', 'type': 'string'}}, 'required': ['input'], 'title': 'sales_agent1_args', 'type': 'object', 'additionalProperties': False}, on_invoke_tool=<function function_tool.<locals>._create_function_tool.<locals>._on_invoke_tool at 0x00000214DD8A65C0>, strict_json_schema=True), FunctionTool(name='sales_agent2', description='Write a cold sales email', params_json_schema={'properties': {'input': {'title': 'Input', 'type': 'string'}}, 'required': ['input'], 'title': 'sales_agent2_args', 'type': 'object', 'additionalProperties': False}, on_invoke_tool=<function function_tool.<locals>._create_function_tool.<locals>._on_invoke_tool at 0x00000214DD901DA0>, strict_json_schema=True), FunctionTool(name='sales_agent3', description='Write a cold sales email', params_json_schema={'properties': {'input': {'title': 'Input', 'type': 'string'}}, 'required': ['input'], 'title': 'sales_agent3_args', 'type': 'object', 'additionalProperties': False}, on_invoke_tool=<function function_tool.<locals>._create_function_tool.<locals>._on_invoke_tool at 0x00000214DD8B6CA0>, strict_json_schema=True)]\n",
      "[Agent(name='Email Manager', instructions='You are an email formatter and sender. You receive the body of an email to be sent. You first use the subject_writer tool to write a subject for the email, then use the html_converter tool to convert the body to HTML. Finally, you use the send_html_email tool to send the email with the subject and HTML body.', handoff_description='Convert an email to HTML and send it', handoffs=[], model='gpt-4o-mini', model_settings=ModelSettings(temperature=None, top_p=None, frequency_penalty=None, presence_penalty=None, tool_choice=None, parallel_tool_calls=None, truncation=None, max_tokens=None, reasoning=None, metadata=None, store=None), tools=[FunctionTool(name='subject_writer', description='Write a subject for a cold sales email', params_json_schema={'properties': {'input': {'title': 'Input', 'type': 'string'}}, 'required': ['input'], 'title': 'subject_writer_args', 'type': 'object', 'additionalProperties': False}, on_invoke_tool=<function function_tool.<locals>._create_function_tool.<locals>._on_invoke_tool at 0x00000214DD901300>, strict_json_schema=True), FunctionTool(name='html_converter', description='Convert a text email body to an HTML email body', params_json_schema={'properties': {'input': {'title': 'Input', 'type': 'string'}}, 'required': ['input'], 'title': 'html_converter_args', 'type': 'object', 'additionalProperties': False}, on_invoke_tool=<function function_tool.<locals>._create_function_tool.<locals>._on_invoke_tool at 0x00000214DD95A520>, strict_json_schema=True), FunctionTool(name='send_html_email', description='Send out an email with the given subject and HTML body to all sales prospects', params_json_schema={'properties': {'subject': {'title': 'Subject', 'type': 'string'}, 'html_body': {'title': 'Html Body', 'type': 'string'}}, 'required': ['subject', 'html_body'], 'title': 'send_html_email_args', 'type': 'object', 'additionalProperties': False}, on_invoke_tool=<function function_tool.<locals>._create_function_tool.<locals>._on_invoke_tool at 0x00000214DD928860>, strict_json_schema=True)], mcp_servers=[], mcp_config={}, input_guardrails=[], output_guardrails=[], output_type=None, hooks=None, tool_use_behavior='run_llm_again', reset_tool_choice=True)]\n"
     ]
    }
   ],
   "source": [
    "tools = [tool1, tool2, tool3]\n",
    "handoffs = [emailer_agent]\n",
    "print(tools)\n",
    "print(handoffs)"
   ]
  },
  {
   "cell_type": "markdown",
   "id": "6dd33004-9089-497a-bfe9-ff839a225ad3",
   "metadata": {},
   "source": [
    "New Sales Manager, that generate cols sales emails (read the instructions).  "
   ]
  },
  {
   "cell_type": "code",
   "execution_count": 22,
   "id": "11325b78-9743-42f0-9273-a7de7c3a4305",
   "metadata": {},
   "outputs": [],
   "source": [
    "sales_manager_instructions = \"You are a sales manager working for ComplAI. You use the tools given to you to generate cold sales emails. \\\n",
    "You never generate sales emails yourself; you always use the tools. \\\n",
    "You try all 3 sales agent tools at least once before choosing the best one. \\\n",
    "You can use the tools multiple times if you're not satisfied with the results from the first try. \\\n",
    "You select the single best email using your own judgement of which email will be most effective. \\\n",
    "After picking the email, you handoff to the Email Manager agent to format and send the email.\"\n",
    "\n",
    "\n",
    "sales_manager = Agent(\n",
    "    name=\"Sales Manager\",\n",
    "    instructions=sales_manager_instructions,\n",
    "    tools=tools,\n",
    "    handoffs=handoffs,\n",
    "    model=\"gpt-4o-mini\")\n",
    "\n",
    "message = \"Send out a cold sales email addressed to Dear CEO from Alice\"\n",
    "\n",
    "with trace(\"Automated SDR\"):\n",
    "    result = await Runner.run(sales_manager, message)"
   ]
  },
  {
   "cell_type": "markdown",
   "id": "880c564a-f5f1-457f-a61b-25a9d3705aab",
   "metadata": {},
   "source": [
    "<table style=\"margin: 0; text-align: left; width:100%\">\n",
    "    <tr>\n",
    "        <td style=\"width: 150px; height: 150px; vertical-align: middle;\">\n",
    "            <img src=\"../assets/exercise.png\" width=\"150\" height=\"150\" style=\"display: block;\" />\n",
    "        </td>\n",
    "        <td>\n",
    "            <h2 style=\"color:#ff7800;\">Exercise</h2>\n",
    "            <span style=\"color:#ff7800;\">Can you identify the Agentic design patterns that were used here?<br/>\n",
    "            What is the 1 line that changed this from being an Agentic \"workflow\" to \"agent\" under Anthropic's definition?<br/>\n",
    "            Try adding in more tools and Agents! You could have tools that handle the mail merge to send to a list.<br/><br/>\n",
    "            HARD CHALLENGE: research how you can have SendGrid call a Callback webhook when a user replies to an email,\n",
    "            Then have the SDR respond to keep the conversation going! This may require some \"vibe coding\" 😂\n",
    "            </span>\n",
    "        </td>\n",
    "    </tr>\n",
    "</table>"
   ]
  },
  {
   "cell_type": "markdown",
   "id": "b97fd390-769d-4118-93ac-be9fbe7a5cdc",
   "metadata": {},
   "source": [
    "<table style=\"margin: 0; text-align: left; width:100%\">\n",
    "    <tr>\n",
    "        <td style=\"width: 150px; height: 150px; vertical-align: middle;\">\n",
    "            <img src=\"../assets/business.png\" width=\"150\" height=\"150\" style=\"display: block;\" />\n",
    "        </td>\n",
    "        <td>\n",
    "            <h2 style=\"color:#00bfff;\">Commercial implications</h2>\n",
    "            <span style=\"color:#00bfff;\">This is immediately applicable to Sales Automation; but more generally this could be applied to  end-to-end automation of any business process through conversations and tools. Think of ways you could apply an Agent solution\n",
    "            like this in your day job.\n",
    "            </span>\n",
    "        </td>\n",
    "    </tr>\n",
    "</table>"
   ]
  },
  {
   "cell_type": "markdown",
   "id": "41b6fb60-1148-42c0-a49f-d57883c0b5d3",
   "metadata": {},
   "source": [
    "## Extra note:\n",
    "\n",
    "Google has announced their Agent Development Kit (ADK) which is in early preview. It's still under development, so it's too early for us to cover it here. But it's interesting to note that it looks quite similar to OpenAI Agents SDK. To give you a preview, here's a peak at sample code from ADK:\n",
    "\n",
    "```\n",
    "root_agent = Agent(\n",
    "    name=\"weather_time_agent\",\n",
    "    model=\"gemini-2.0-flash\",\n",
    "    description=\"Agent to answer questions about the time and weather in a city.\",\n",
    "    instruction=\"You are a helpful agent who can answer user questions about the time and weather in a city.\",\n",
    "    tools=[get_weather, get_current_time]\n",
    ")\n",
    "```\n",
    "\n",
    "Well, that looks familiar!"
   ]
  },
  {
   "cell_type": "code",
   "execution_count": null,
   "id": "7fa7ab6d-e6e0-42e7-a016-ef8989a35dea",
   "metadata": {},
   "outputs": [],
   "source": []
  },
  {
   "cell_type": "code",
   "execution_count": null,
   "id": "de5045c7-ccd6-4854-93da-0098d93598e1",
   "metadata": {},
   "outputs": [],
   "source": []
  },
  {
   "cell_type": "code",
   "execution_count": null,
   "id": "5367a935-03f8-45e9-80e9-2dbc49c0fb64",
   "metadata": {},
   "outputs": [],
   "source": []
  }
 ],
 "metadata": {
  "kernelspec": {
   "display_name": "Python 3 (ipykernel)",
   "language": "python",
   "name": "python3"
  },
  "language_info": {
   "codemirror_mode": {
    "name": "ipython",
    "version": 3
   },
   "file_extension": ".py",
   "mimetype": "text/x-python",
   "name": "python",
   "nbconvert_exporter": "python",
   "pygments_lexer": "ipython3",
   "version": "3.12.7"
  }
 },
 "nbformat": 4,
 "nbformat_minor": 5
}
