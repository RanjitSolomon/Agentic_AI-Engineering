{
 "cells": [
  {
   "cell_type": "markdown",
   "id": "ae634e1b-5ea7-4b0d-bb68-e0c0001d6de8",
   "metadata": {},
   "source": [
    "# Multi-Model Integration: Using Gemini, DeepSeek & Grok with OpenAI Agents"
   ]
  },
  {
   "cell_type": "markdown",
   "id": "dcafda6e-01f9-4429-b9a8-a70c5b64ad49",
   "metadata": {},
   "source": [
    "#### Models other than OpenAI \n",
    "Using OpenAI SDK to drive Gemini and DeepSeek   \n",
    "#### Structured Outputs \n",
    "The way that we can require an agent not to respond jut with text but to populate some kind of an object where we can specify the fields that are going to be populated. \n",
    "#### Guardrails \n",
    "Which are an approach to making sure that we have some controls over the information that comes in to our agent setup and what comes out"
   ]
  },
  {
   "cell_type": "code",
   "execution_count": 1,
   "id": "ce3c046c-6e8c-4a0d-b501-d3ead749726c",
   "metadata": {},
   "outputs": [],
   "source": [
    "from dotenv import load_dotenv\n",
    "from openai import AsyncOpenAI\n",
    "from agents import Agent, Runner, trace, function_tool, OpenAIChatCompletionsModel, input_guardrail, GuardrailFunctionOutput\n",
    "from typing import Dict\n",
    "import sendgrid\n",
    "import os\n",
    "from sendgrid.helpers.mail import Mail, Email, To, Content\n",
    "from pydantic import BaseModel"
   ]
  },
  {
   "cell_type": "code",
   "execution_count": 2,
   "id": "482f214f-934e-48fc-9ef5-b72e04e2293a",
   "metadata": {},
   "outputs": [
    {
     "data": {
      "text/plain": [
       "True"
      ]
     },
     "execution_count": 2,
     "metadata": {},
     "output_type": "execute_result"
    }
   ],
   "source": [
    "load_dotenv(override=True)"
   ]
  },
  {
   "cell_type": "code",
   "execution_count": 3,
   "id": "3fbaf143-1648-48da-87a4-5df4bffbd341",
   "metadata": {},
   "outputs": [
    {
     "name": "stdout",
     "output_type": "stream",
     "text": [
      "OpenAI API Key exists and begins sk-proj-\n",
      "Google API Key exists and begins AI\n",
      "DeepSeek API Key exists and begins sk-\n",
      "Groq API Key exists and begins gsk_\n"
     ]
    }
   ],
   "source": [
    "openai_api_key = os.getenv('OPENAI_API_KEY')\n",
    "google_api_key = os.getenv('GOOGLE_API_KEY')\n",
    "deepseek_api_key = os.getenv('DEEPSEEK_API_KEY')\n",
    "groq_api_key = os.getenv('GROQ_API_KEY')\n",
    "\n",
    "if openai_api_key:\n",
    "    print(f\"OpenAI API Key exists and begins {openai_api_key[:8]}\")\n",
    "else:\n",
    "    print(\"OpenAI API Key not set\")\n",
    "\n",
    "if google_api_key:\n",
    "    print(f\"Google API Key exists and begins {google_api_key[:2]}\")\n",
    "else:\n",
    "    print(\"Google API Key not set (and this is optional)\")\n",
    "\n",
    "if deepseek_api_key:\n",
    "    print(f\"DeepSeek API Key exists and begins {deepseek_api_key[:3]}\")\n",
    "else:\n",
    "    print(\"DeepSeek API Key not set (and this is optional)\")\n",
    "\n",
    "if groq_api_key:\n",
    "    print(f\"Groq API Key exists and begins {groq_api_key[:4]}\")\n",
    "else:\n",
    "    print(\"Groq API Key not set (and this is optional)\")"
   ]
  },
  {
   "cell_type": "markdown",
   "id": "f0498ac2-3305-4508-9884-415587b994cf",
   "metadata": {},
   "source": [
    "Three different sales agents.      \n",
    "One is professional, one is witty and engaing and one is concise. "
   ]
  },
  {
   "cell_type": "code",
   "execution_count": 4,
   "id": "46e55cbd-30c3-4acb-b7a0-772f3cf89f49",
   "metadata": {},
   "outputs": [],
   "source": [
    "instructions1 = \"You are a sales agent working for ComplAI, \\\n",
    "a company that provides a SaaS tool for ensuring SOC2 compliance and preparing for audits, powered by AI. \\\n",
    "You write professional, serious cold emails.\"\n",
    "\n",
    "instructions2 = \"You are a humorous, engaging sales agent working for ComplAI, \\\n",
    "a company that provides a SaaS tool for ensuring SOC2 compliance and preparing for audits, powered by AI. \\\n",
    "You write witty, engaging cold emails that are likely to get a response.\"\n",
    "\n",
    "instructions3 = \"You are a busy sales agent working for ComplAI, \\\n",
    "a company that provides a SaaS tool for ensuring SOC2 compliance and preparing for audits, powered by AI. \\\n",
    "You write concise, to the point cold emails.\""
   ]
  },
  {
   "cell_type": "markdown",
   "id": "c8b6f39f-35e1-4034-9899-0b89e8c67a44",
   "metadata": {},
   "source": [
    "### It's easy to use any models with OpenAI compatible endpoints"
   ]
  },
  {
   "cell_type": "markdown",
   "id": "3a99c1e8-52c0-4bd3-9efe-1e6853fb5130",
   "metadata": {},
   "source": [
    "We are using OpenAI endpoints.       \n",
    "We can use compatible OpenAI endpoints to talk to other models like Gemini, DeepSeek and Grok      "
   ]
  },
  {
   "cell_type": "code",
   "execution_count": 5,
   "id": "12c59cfe-bfcd-4a2e-8e00-4ffcf71bb7a0",
   "metadata": {},
   "outputs": [],
   "source": [
    "GEMINI_BASE_URL = \"https://generativelanguage.googleapis.com/v1beta/openai/\"\n",
    "DEEPSEEK_BASE_URL = \"https://api.deepseek.com/v1\"\n",
    "GROQ_BASE_URL = \"https://api.groq.com/opena+i/v1\""
   ]
  },
  {
   "cell_type": "markdown",
   "id": "767d1d36-f7cf-473f-bf80-6242c0d0c217",
   "metadata": {},
   "source": [
    "We create a new instance of the client by instantiating an async OpenAI object, passing in the base URL and API Key      \n",
    "      \n",
    "Finally, we create three model objects       \n",
    "      \n",
    "This is little bit of boilerplate, if you are using OpenAI's models then you don't need to do any of this."
   ]
  },
  {
   "cell_type": "code",
   "execution_count": 6,
   "id": "014343ae-046e-4421-a0d6-1e739f7d0640",
   "metadata": {},
   "outputs": [],
   "source": [
    "deepseek_client = AsyncOpenAI(base_url=DEEPSEEK_BASE_URL, api_key=deepseek_api_key)\n",
    "gemini_client = AsyncOpenAI(base_url=GEMINI_BASE_URL, api_key=google_api_key)\n",
    "groq_client = AsyncOpenAI(base_url=GROQ_BASE_URL, api_key=groq_api_key)\n",
    "\n",
    "deepseek_model = OpenAIChatCompletionsModel(model=\"deepseek-chat\", openai_client=deepseek_client)\n",
    "gemini_model = OpenAIChatCompletionsModel(model=\"gemini-2.0-flash\", openai_client=gemini_client)\n",
    "llama3_3_model = OpenAIChatCompletionsModel(model=\"llama-3.3-70b-versatile\", openai_client=groq_client)"
   ]
  },
  {
   "cell_type": "markdown",
   "id": "54f167cb-bd05-4c3f-91e2-89add92193c2",
   "metadata": {},
   "source": [
    "When we create our agents, we're going to give them a name and instructions      \n",
    "If it is OpenAI model. It would be like \"model='GPT-4o-mini'\" instead of \"model=deepseek_model\""
   ]
  },
  {
   "cell_type": "code",
   "execution_count": 7,
   "id": "93d04f2b-7d56-4cf2-83f6-b32e9fc7ea6c",
   "metadata": {},
   "outputs": [],
   "source": [
    "sales_agent1 = Agent(name=\"DeepSeek Sales Agent\", instructions=instructions1, model=deepseek_model)\n",
    "sales_agent2 =  Agent(name=\"Gemini Sales Agent\", instructions=instructions2, model=gemini_model)\n",
    "sales_agent3  = Agent(name=\"Llama3.3 Sales Agent\",instructions=instructions3,model=llama3_3_model)"
   ]
  },
  {
   "cell_type": "markdown",
   "id": "3b8ef535-5b58-4d4a-a633-1ccc47c0ada9",
   "metadata": {},
   "source": [
    "Write a cold sales email and we are now going to repackage each of these three sales agents into three tools"
   ]
  },
  {
   "cell_type": "code",
   "execution_count": 8,
   "id": "cfce8b5a-4286-47ba-8f1e-a2e1408b8656",
   "metadata": {},
   "outputs": [],
   "source": [
    "description = \"Write a cold sales email\"\n",
    "\n",
    "tool1 = sales_agent1.as_tool(tool_name=\"sales_agent1\", tool_description=description)\n",
    "tool2 = sales_agent2.as_tool(tool_name=\"sales_agent2\", tool_description=description)\n",
    "tool3 = sales_agent3.as_tool(tool_name=\"sales_agent3\", tool_description=description)"
   ]
  },
  {
   "cell_type": "markdown",
   "id": "f2f97253-e7b3-47b5-b984-d14e1d1ad6f1",
   "metadata": {},
   "source": [
    "We have a normal function tool.    \n",
    "We use this decorator to reconstitute wrap this function in the boilerplate JSON that describes the tool"
   ]
  },
  {
   "cell_type": "code",
   "execution_count": 9,
   "id": "0463233e-905c-468e-9b29-869efa5a0f79",
   "metadata": {},
   "outputs": [],
   "source": [
    "@function_tool\n",
    "def send_html_email(subject: str, html_body: str) -> Dict[str, str]:\n",
    "    \"\"\" Send out an email with the given subject and HTML body to all sales prospects \"\"\"\n",
    "    sg = sendgrid.SendGridAPIClient(api_key=os.environ.get('SENDGRID_API_KEY'))\n",
    "    from_email = Email(\"rsolo@ranaa.ca\")  # Change to your verified sender\n",
    "    to_email = To(\"ranjitsolo@yahoo.com\")  # Change to your recipient\n",
    "    content = Content(\"text/html\", html_body)\n",
    "    mail = Mail(from_email, to_email, subject, content).get()\n",
    "    response = sg.client.mail.send.post(request_body=mail)\n",
    "    return {\"status\": \"success\"}"
   ]
  },
  {
   "cell_type": "markdown",
   "id": "0451b59f-82e9-4168-b19b-693e449b7a25",
   "metadata": {},
   "source": [
    "Subject for a cold sales email.     \n",
    "Convert a text to HTML email.   \n",
    "passing in the string GPT-4o-mini      \n",
    "     \n",
    "So this is an agent that can write the subject of an email \n",
    "An agent that can convert an email to HTML format and "
   ]
  },
  {
   "cell_type": "code",
   "execution_count": 10,
   "id": "2b6b126c-7101-4e42-a652-ab815738ce89",
   "metadata": {},
   "outputs": [],
   "source": [
    "subject_instructions = \"You can write a subject for a cold sales email. \\\n",
    "You are given a message and you need to write a subject for an email that is likely to get a response.\"\n",
    "\n",
    "html_instructions = \"You can convert a text email body to an HTML email body. \\\n",
    "You are given a text email body which might have some markdown \\\n",
    "and you need to convert it to an HTML email body with simple, clear, compelling layout and design.\"\n",
    "\n",
    "subject_writer = Agent(name=\"Email subject writer\", instructions=subject_instructions, model=\"gpt-4o-mini\")\n",
    "subject_tool = subject_writer.as_tool(tool_name=\"subject_writer\", tool_description=\"Write a subject for a cold sales email\")\n",
    "\n",
    "html_converter = Agent(name=\"HTML email body converter\", instructions=html_instructions, model=\"gpt-4o-mini\")\n",
    "html_tool = html_converter.as_tool(tool_name=\"html_converter\",tool_description=\"Convert a text email body to an HTML email body\")"
   ]
  },
  {
   "cell_type": "markdown",
   "id": "08707425-711c-40a6-a3b3-2b8713519c7a",
   "metadata": {},
   "source": [
    "We collect together those three tools."
   ]
  },
  {
   "cell_type": "code",
   "execution_count": 11,
   "id": "b9f5db39-abc6-45e8-aea1-0f3ae2b27b95",
   "metadata": {},
   "outputs": [],
   "source": [
    "email_tools = [subject_tool, html_tool, send_html_email]"
   ]
  },
  {
   "cell_type": "markdown",
   "id": "05f89155-9505-4b1d-bfb5-26ff97b31bff",
   "metadata": {},
   "source": [
    "email_agent which is able to take some instructions and handoff description"
   ]
  },
  {
   "cell_type": "code",
   "execution_count": 12,
   "id": "27e0f107-52ba-447c-88d8-7f1abca963f2",
   "metadata": {},
   "outputs": [],
   "source": [
    "instructions =\"You are an email formatter and sender. You receive the body of an email to be sent. \\\n",
    "You first use the subject_writer tool to write a subject for the email, then use the html_converter tool to convert the body to HTML. \\\n",
    "Finally, you use the send_html_email tool to send the email with the subject and HTML body.\"\n",
    "\n",
    "\n",
    "emailer_agent = Agent(\n",
    "    name=\"Email Manager\",\n",
    "    instructions=instructions,\n",
    "    tools=email_tools,\n",
    "    model=\"gpt-4o-mini\",\n",
    "    handoff_description=\"Convert an email to HTML and send it\")"
   ]
  },
  {
   "cell_type": "markdown",
   "id": "be563d9c-c228-44f0-90e7-b086caa79996",
   "metadata": {},
   "source": [
    "Three sales tools into one group of tools.     \n",
    "The handoff is now \"email_agent\""
   ]
  },
  {
   "cell_type": "code",
   "execution_count": 13,
   "id": "9da2bb0e-ec31-49cf-b258-ebdc7b4503c3",
   "metadata": {},
   "outputs": [],
   "source": [
    "tools = [tool1, tool2, tool3]\n",
    "handoffs = [emailer_agent]"
   ]
  },
  {
   "cell_type": "markdown",
   "id": "f869caf7-e040-432c-8630-95b94ca68f90",
   "metadata": {},
   "source": [
    "sales_agent2 - Gemini Sales Agent and sales_agent3 - Llama3.3 Sales Agent didn't work.      \n",
    "Solution suggested was to update the opanai-agent package to verion 0.0.14        \n",
    "It fixed the Gemini but not the Llama3.3       \n",
    "        \n",
    "uv pip install 'openai-agent==0.0.14'      "
   ]
  },
  {
   "cell_type": "code",
   "execution_count": 14,
   "id": "63758db5-8b38-4239-aced-37fbdfaf5d97",
   "metadata": {},
   "outputs": [],
   "source": [
    "# sales_manager_instructions = \"You are a sales manager working for ComplAI. You use the tools given to you to generate cold sales emails. \\\n",
    "# You never generate sales emails yourself; you always use the tools. \\\n",
    "# You try all 3 sales agent tools at least once before choosing the best one. \\\n",
    "# You can use the tools multiple times if you're not satisfied with the results from the first try. \\ # deleted this line\n",
    "# You select the single best email using your own judgement of which email will be most effective. \\\n",
    "# After picking the email, you handoff to the Email Manager agent to format and send the email.\"\n",
    "\n",
    "sales_manager_instructions = \"You are a sales manager working for ComplAI. You use the tools given to you to generate cold sales emails. \\\n",
    "You never generate sales emails yourself; you always use the tools. \\\n",
    "You try all 3 sales agent tools at least once before choosing the best one. \\\n",
    "You select the single best email using your own judgement of which email will be most effective. \\\n",
    "After picking the email, you handoff to the Email Manager agent to format and send the email.\"\n",
    "\n",
    "sales_manager = Agent(\n",
    "    name=\"Sales Manager\",\n",
    "    instructions=sales_manager_instructions,\n",
    "    tools=tools,\n",
    "    handoffs=handoffs,\n",
    "    model=\"gpt-4o-mini\")\n",
    "\n",
    "message = \"Send out a cold sales email addressed to Dear CEO from Alice\"\n",
    "\n",
    "with trace(\"Automated SDR\"):\n",
    "    result = await Runner.run(sales_manager, message)"
   ]
  },
  {
   "cell_type": "markdown",
   "id": "2cc68602-64e1-41f4-9bfd-6a2bfe882d62",
   "metadata": {},
   "source": [
    "https://www.udemy.com/course/the-complete-agentic-ai-engineering-course/learn/lecture/49820721#questions/23327033\n",
    "\n",
    "Hopefully this helps others as well. I fixed the issue by updating openai-agents. Turns out I was using 0.0.8 (that was just 2 weeks ago) and there have been multiple releases already - see https://pypi.org/project/openai-agents/#history\n",
    "\n",
    "I'm using 0.0.14 now and the problem went away.\n",
    "\n",
    "pyproject.toml => update openai-agents version to 0.0.14\n",
    "\n",
    "Submitted PR https://github.com/ed-donner/agents/pull/9 as well, hopefully others won't run into this like me.\n",
    "\n",
    "\n",
    "\n",
    "Here're some other things I have tried but without luck, just sharing some steps I took. :)\n",
    "\n",
    "- The JSON 'strict' field was set to true for the sales agents but I think that is irrelevant for external validation (e.g. GEMINI, GROQ) and only applies to openai SDK payload itself.\n",
    "\n",
    "- Adding instructions in the 'instructionsX' to format/remove additional JSON fields didn't work for me as well. Because the payload is strictly following OpenAI SDK JSON format and schema, it doesn't remove it via the prompt/instructions.\n",
    "\n",
    "- I reviewed the https://ai.google.dev/gemini-api/docs/openai documents, and can't tell anything, that's when it struck me about the python module \"openai-agents\", and I took a look at https://github.com/openai/openai-agents-python, and finally noticed the same issue others had encountered https://github.com/openai/openai-agents-python/issues/443\n",
    "\n",
    "\n",
    "\n",
    "There you go, hopefully the steps here can also guide others to troubleshoot some of the issues you have encountered. Good luck!"
   ]
  },
  {
   "cell_type": "markdown",
   "id": "7bf9a916-5477-40d1-8031-e8dca7117453",
   "metadata": {},
   "source": [
    "Anthropic's claude is not compatible but it can be used via OpenRouter"
   ]
  },
  {
   "cell_type": "markdown",
   "id": "d583caaf-6873-4ce2-920f-17375b2d297d",
   "metadata": {},
   "source": [
    "## Check out the trace:\n",
    "\n",
    "https://platform.openai.com/traces"
   ]
  },
  {
   "cell_type": "markdown",
   "id": "b2fb348b-eaf4-46ee-8b6f-f646c3e17cb5",
   "metadata": {},
   "source": [
    "Next, Structured Output and Guardrails        \n",
    "Guardrails are ways that you can put a constraint around your agent platform.      \n",
    "It's a test to check the results. If correct response was provided.     \n",
    "Guardrails can themselves be agents, which means tht you use an LLM to be checking that things look good at any point in your flow.      \n",
    "Actually, guardrails can only be applied either to the input at the very beginning of the first agent or output of the last agent.     \n",
    "It is designed to protect your model against getting an input, which is inappropriate or not intentded and also producing an output not acceptable.      "
   ]
  },
  {
   "cell_type": "markdown",
   "id": "eadaa2a6-19fc-49ad-8083-065d5567683f",
   "metadata": {},
   "source": [
    "We will be implementing the Guardrail for the input.      \n",
    "     \n",
    "Structured output is defined in a class `NameCheckOutput`. This is a pydantic object where you have objects classes which are designed to reflect a particular schema of data.      \n",
    "The class has two fields, 'is_name_in_message' and 'name'        \n",
    "      \n",
    "Then Guardrail agent, it has a name, instruction to check if there are any personal name, and structured output      \n",
    "(we don't want the output to be text but structured output conforms to the schema)        \n",
    "       \n",
    "We could use this so that rather than emails being just strings, they could actually have a subject, a recipient, a body     "
   ]
  },
  {
   "cell_type": "code",
   "execution_count": 15,
   "id": "eba5acbe-f196-4db5-a58b-313b74a17223",
   "metadata": {},
   "outputs": [],
   "source": [
    "class NameCheckOutput(BaseModel):\n",
    "    is_name_in_message: bool\n",
    "    name: str\n",
    "\n",
    "guardrail_agent = Agent( \n",
    "    name=\"Name check\",\n",
    "    instructions=\"Check if the user is including someone's personal name in what they want you to do.\",\n",
    "    output_type=NameCheckOutput,\n",
    "    model=\"gpt-4o-mini\"\n",
    ")"
   ]
  },
  {
   "cell_type": "markdown",
   "id": "b0fec6c8-519e-4fa0-88c5-50279248a779",
   "metadata": {},
   "source": [
    "So, Guardrails is like an asynchronous, it is a coroutine       \n",
    "you simply decorate it with @input_guardrail      \n",
    "     \n",
    "There is one for @output_guardrail        \n",
    "      \n",
    "It is going to check if someone's personal name is being included in the message and then return `GuardrailFunctionOutput`       \n",
    "It has two things, 'output_info' dictionary useful for tracing and 'tripwire_trigger' is a boolean. If there is a problem (True) or not(False)       \n",
    "     \n",
    "If there is a name, then it should trigger the tripwire and the guardrail to fail"
   ]
  },
  {
   "cell_type": "code",
   "execution_count": 16,
   "id": "d53c7dab-3316-4c23-af64-8abdbe82da4a",
   "metadata": {},
   "outputs": [],
   "source": [
    "@input_guardrail\n",
    "async def guardrail_against_name(ctx, agent, message):\n",
    "    result = await Runner.run(guardrail_agent, message, context=ctx.context)\n",
    "    is_name_in_message = result.final_output.is_name_in_message\n",
    "    return GuardrailFunctionOutput(output_info={\"found_name\": result.final_output},tripwire_triggered=is_name_in_message)"
   ]
  },
  {
   "cell_type": "markdown",
   "id": "dc6382c2-cd24-4219-9edd-df4726f4d7e2",
   "metadata": {},
   "source": [
    "`careful_sales_manager` is a new agent, everything is same as before, the difference is we are passing in an input guardrail       \n",
    "     \n",
    "Note: 'Alice' in the message"
   ]
  },
  {
   "cell_type": "code",
   "execution_count": 17,
   "id": "30bfa359-794c-45a5-a506-248b47340727",
   "metadata": {},
   "outputs": [
    {
     "ename": "InputGuardrailTripwireTriggered",
     "evalue": "Guardrail InputGuardrail triggered tripwire",
     "output_type": "error",
     "traceback": [
      "\u001b[31m---------------------------------------------------------------------------\u001b[39m",
      "\u001b[31mInputGuardrailTripwireTriggered\u001b[39m           Traceback (most recent call last)",
      "\u001b[36mCell\u001b[39m\u001b[36m \u001b[39m\u001b[32mIn[17]\u001b[39m\u001b[32m, line 13\u001b[39m\n\u001b[32m     10\u001b[39m message = \u001b[33m\"\u001b[39m\u001b[33mSend out a cold sales email addressed to Dear CEO from Alice\u001b[39m\u001b[33m\"\u001b[39m\n\u001b[32m     12\u001b[39m \u001b[38;5;28;01mwith\u001b[39;00m trace(\u001b[33m\"\u001b[39m\u001b[33mProtected Automated SDR\u001b[39m\u001b[33m\"\u001b[39m):\n\u001b[32m---> \u001b[39m\u001b[32m13\u001b[39m     result = \u001b[38;5;28;01mawait\u001b[39;00m Runner.run(careful_sales_manager, message)\n",
      "\u001b[36mFile \u001b[39m\u001b[32mD:\\dev\\AI\\Ollama\\Course\\Agentic_AI_Engineering_Course\\updated_agents_may_15th_2025\\agents\\.venv\\Lib\\site-packages\\agents\\run.py:218\u001b[39m, in \u001b[36mRunner.run\u001b[39m\u001b[34m(cls, starting_agent, input, context, max_turns, hooks, run_config, previous_response_id)\u001b[39m\n\u001b[32m    213\u001b[39m logger.debug(\n\u001b[32m    214\u001b[39m     \u001b[33mf\u001b[39m\u001b[33m\"\u001b[39m\u001b[33mRunning agent \u001b[39m\u001b[38;5;132;01m{\u001b[39;00mcurrent_agent.name\u001b[38;5;132;01m}\u001b[39;00m\u001b[33m (turn \u001b[39m\u001b[38;5;132;01m{\u001b[39;00mcurrent_turn\u001b[38;5;132;01m}\u001b[39;00m\u001b[33m)\u001b[39m\u001b[33m\"\u001b[39m,\n\u001b[32m    215\u001b[39m )\n\u001b[32m    217\u001b[39m \u001b[38;5;28;01mif\u001b[39;00m current_turn == \u001b[32m1\u001b[39m:\n\u001b[32m--> \u001b[39m\u001b[32m218\u001b[39m     input_guardrail_results, turn_result = \u001b[38;5;28;01mawait\u001b[39;00m asyncio.gather(\n\u001b[32m    219\u001b[39m         \u001b[38;5;28mcls\u001b[39m._run_input_guardrails(\n\u001b[32m    220\u001b[39m             starting_agent,\n\u001b[32m    221\u001b[39m             starting_agent.input_guardrails\n\u001b[32m    222\u001b[39m             + (run_config.input_guardrails \u001b[38;5;129;01mor\u001b[39;00m []),\n\u001b[32m    223\u001b[39m             copy.deepcopy(\u001b[38;5;28minput\u001b[39m),\n\u001b[32m    224\u001b[39m             context_wrapper,\n\u001b[32m    225\u001b[39m         ),\n\u001b[32m    226\u001b[39m         \u001b[38;5;28mcls\u001b[39m._run_single_turn(\n\u001b[32m    227\u001b[39m             agent=current_agent,\n\u001b[32m    228\u001b[39m             all_tools=all_tools,\n\u001b[32m    229\u001b[39m             original_input=original_input,\n\u001b[32m    230\u001b[39m             generated_items=generated_items,\n\u001b[32m    231\u001b[39m             hooks=hooks,\n\u001b[32m    232\u001b[39m             context_wrapper=context_wrapper,\n\u001b[32m    233\u001b[39m             run_config=run_config,\n\u001b[32m    234\u001b[39m             should_run_agent_start_hooks=should_run_agent_start_hooks,\n\u001b[32m    235\u001b[39m             tool_use_tracker=tool_use_tracker,\n\u001b[32m    236\u001b[39m             previous_response_id=previous_response_id,\n\u001b[32m    237\u001b[39m         ),\n\u001b[32m    238\u001b[39m     )\n\u001b[32m    239\u001b[39m \u001b[38;5;28;01melse\u001b[39;00m:\n\u001b[32m    240\u001b[39m     turn_result = \u001b[38;5;28;01mawait\u001b[39;00m \u001b[38;5;28mcls\u001b[39m._run_single_turn(\n\u001b[32m    241\u001b[39m         agent=current_agent,\n\u001b[32m    242\u001b[39m         all_tools=all_tools,\n\u001b[32m   (...)\u001b[39m\u001b[32m    250\u001b[39m         previous_response_id=previous_response_id,\n\u001b[32m    251\u001b[39m     )\n",
      "\u001b[36mFile \u001b[39m\u001b[32mD:\\dev\\AI\\Ollama\\Course\\Agentic_AI_Engineering_Course\\updated_agents_may_15th_2025\\agents\\.venv\\Lib\\site-packages\\agents\\run.py:857\u001b[39m, in \u001b[36mRunner._run_input_guardrails\u001b[39m\u001b[34m(cls, agent, guardrails, input, context)\u001b[39m\n\u001b[32m    850\u001b[39m         t.cancel()\n\u001b[32m    851\u001b[39m     _error_tracing.attach_error_to_current_span(\n\u001b[32m    852\u001b[39m         SpanError(\n\u001b[32m    853\u001b[39m             message=\u001b[33m\"\u001b[39m\u001b[33mGuardrail tripwire triggered\u001b[39m\u001b[33m\"\u001b[39m,\n\u001b[32m    854\u001b[39m             data={\u001b[33m\"\u001b[39m\u001b[33mguardrail\u001b[39m\u001b[33m\"\u001b[39m: result.guardrail.get_name()},\n\u001b[32m    855\u001b[39m         )\n\u001b[32m    856\u001b[39m     )\n\u001b[32m--> \u001b[39m\u001b[32m857\u001b[39m     \u001b[38;5;28;01mraise\u001b[39;00m InputGuardrailTripwireTriggered(result)\n\u001b[32m    858\u001b[39m \u001b[38;5;28;01melse\u001b[39;00m:\n\u001b[32m    859\u001b[39m     guardrail_results.append(result)\n",
      "\u001b[31mInputGuardrailTripwireTriggered\u001b[39m: Guardrail InputGuardrail triggered tripwire"
     ]
    }
   ],
   "source": [
    "careful_sales_manager = Agent(\n",
    "    name=\"Sales Manager\",\n",
    "    instructions=sales_manager_instructions,\n",
    "    tools=tools,\n",
    "    handoffs=[emailer_agent],\n",
    "    model=\"gpt-4o-mini\",\n",
    "    input_guardrails=[guardrail_against_name]\n",
    "    )\n",
    "\n",
    "message = \"Send out a cold sales email addressed to Dear CEO from Alice\"\n",
    "\n",
    "with trace(\"Protected Automated SDR\"):\n",
    "    result = await Runner.run(careful_sales_manager, message)"
   ]
  },
  {
   "cell_type": "markdown",
   "id": "008492a1-4cfa-47dd-83f7-384d46eaa296",
   "metadata": {},
   "source": [
    "## Check out the trace:\n",
    "\n",
    "https://platform.openai.com/traces"
   ]
  },
  {
   "cell_type": "markdown",
   "id": "ab5ccfe0-7ebb-4770-b073-6ddb3e8cdb50",
   "metadata": {},
   "source": [
    "Trace > guardrail_against_name > Name check > POST/v1/responses      \n",
    "       \n",
    "Output:\n",
    "{\n",
    "  \"is_name_in_message\": true,\n",
    "  \"name\": \"Alice\"\n",
    "}"
   ]
  },
  {
   "cell_type": "code",
   "execution_count": 18,
   "id": "c5b2b746-32ca-4278-958b-9cca086ed265",
   "metadata": {},
   "outputs": [],
   "source": [
    "message = \"Send out a cold sales email addressed to Dear CEO from Head of Business Development\"\n",
    "\n",
    "with trace(\"Protected Automated SDR\"):\n",
    "    result = await Runner.run(careful_sales_manager, message)"
   ]
  },
  {
   "cell_type": "markdown",
   "id": "99bd0a8c-13cd-4409-b2aa-9f98ad511ba5",
   "metadata": {},
   "source": [
    "<table style=\"margin: 0; text-align: left; width:100%\">\n",
    "    <tr>\n",
    "        <td style=\"width: 150px; height: 150px; vertical-align: middle;\">\n",
    "            <img src=\"../assets/exercise.png\" width=\"150\" height=\"150\" style=\"display: block;\" />\n",
    "        </td>\n",
    "        <td>\n",
    "            <h2 style=\"color:#ff7800;\">Exercise</h2>\n",
    "            <span style=\"color:#ff7800;\">• Try different models<br/>• Add more input and output guardrails<br/>• Use structured outputs for the email generation\n",
    "            </span>\n",
    "        </td>\n",
    "    </tr>\n",
    "</table>"
   ]
  },
  {
   "cell_type": "code",
   "execution_count": null,
   "id": "040e6d39-a65b-493e-a5c2-cdea7b32c9fe",
   "metadata": {},
   "outputs": [],
   "source": []
  }
 ],
 "metadata": {
  "kernelspec": {
   "display_name": "Python 3 (ipykernel)",
   "language": "python",
   "name": "python3"
  },
  "language_info": {
   "codemirror_mode": {
    "name": "ipython",
    "version": 3
   },
   "file_extension": ".py",
   "mimetype": "text/x-python",
   "name": "python",
   "nbconvert_exporter": "python",
   "pygments_lexer": "ipython3",
   "version": "3.12.7"
  }
 },
 "nbformat": 4,
 "nbformat_minor": 5
}
