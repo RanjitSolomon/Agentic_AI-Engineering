{
 "cells": [
  {
   "cell_type": "markdown",
   "id": "4c2bb6ce-e7fd-46fa-bc77-5a399a266ae4",
   "metadata": {},
   "source": [
    "## The first big project - Professionally You!\n",
    "\n",
    "### And, Tool use.\n",
    "\n",
    "### But first: introducing Pushover\n",
    "\n",
    "Pushover is a nifty tool for sending Push Notifications to your phone.\n",
    "\n",
    "It's super easy to set up and install!\n",
    "\n",
    "Simply visit https://pushover.net/ and sign up for a free account, and create your API key.\n",
    "\n",
    "Add to your `.env` file:\n",
    "```\n",
    "PUSHOVER_USER=\n",
    "PUSHOVER_TOKEN=\n",
    "```\n",
    "And install the app on your phone."
   ]
  },
  {
   "cell_type": "code",
   "execution_count": 1,
   "id": "7e35576b-8b78-45a3-ba2c-2c4a9436fb37",
   "metadata": {},
   "outputs": [],
   "source": [
    "# imports\n",
    "\n",
    "from dotenv import load_dotenv\n",
    "from openai import OpenAI\n",
    "import json\n",
    "import os\n",
    "import requests\n",
    "from PyPDF2 import PdfReader\n",
    "import gradio as gr"
   ]
  },
  {
   "cell_type": "code",
   "execution_count": 2,
   "id": "5573ec6f-bf50-4437-b688-2c8d79811c98",
   "metadata": {},
   "outputs": [],
   "source": [
    "load_dotenv(override=True)\n",
    "openai = OpenAI()"
   ]
  },
  {
   "cell_type": "code",
   "execution_count": 3,
   "id": "4856343d-34c3-4f61-8fe4-cb1f9652a65b",
   "metadata": {},
   "outputs": [],
   "source": [
    "# For pushover\n",
    "\n",
    "pushover_user = os.getenv(\"PUSHOVER_USER\")\n",
    "pushover_token = os.getenv(\"PUSHOVER_TOKEN\")\n",
    "pushover_url = \"https://api.pushover.net/1/messages.json\""
   ]
  },
  {
   "cell_type": "code",
   "execution_count": 4,
   "id": "4a479d3f-71ea-4f26-bfce-4c15344ae4dc",
   "metadata": {},
   "outputs": [],
   "source": [
    "def push(message):\n",
    "    print(f\"Push: {message}\")\n",
    "    payload = {\"user\": pushover_user, \"token\": pushover_token, \"message\": message}\n",
    "    requests.post(pushover_url, data=payload)"
   ]
  },
  {
   "cell_type": "code",
   "execution_count": 5,
   "id": "49ea3896-0c6b-4847-af96-0b04de68d08a",
   "metadata": {},
   "outputs": [
    {
     "name": "stdout",
     "output_type": "stream",
     "text": [
      "Push: HEY!!\n"
     ]
    }
   ],
   "source": [
    "push(\"HEY!!\")"
   ]
  },
  {
   "cell_type": "markdown",
   "id": "730ff4d0-e164-4ed4-830c-a1f4dd482a9d",
   "metadata": {},
   "source": [
    "A function to record if a user wants to be in touch with us"
   ]
  },
  {
   "cell_type": "code",
   "execution_count": 6,
   "id": "b7bf4387-bf3c-4e23-8b8b-71298d925449",
   "metadata": {},
   "outputs": [],
   "source": [
    "def record_user_details(email, name=\"Name not provided\", notes=\"not provided\"):\n",
    "    push(f\"Recording interest from {name} with email {email} and notes {notes}\")\n",
    "    return {\"recorded\": \"ok\"}"
   ]
  },
  {
   "cell_type": "markdown",
   "id": "3cf4433a-6e9a-4c64-8770-39a55f9a6094",
   "metadata": {},
   "source": [
    "A function to record if a user asks a question that it doesn't know how to answer."
   ]
  },
  {
   "cell_type": "code",
   "execution_count": 7,
   "id": "792d7e69-7ad9-4217-bdd3-9bfa8d8bf20a",
   "metadata": {},
   "outputs": [],
   "source": [
    "def record_unknown_question(question):\n",
    "    push(f\"Recording {question} asked that I couldn't answer\")\n",
    "    return {\"recorded\": \"ok\"}"
   ]
  },
  {
   "cell_type": "markdown",
   "id": "3de8bd02-917e-488e-9f1e-813bed286ba6",
   "metadata": {},
   "source": [
    "At the end of the day, tool use is just \"JSON\" and \"IF\" statements.      \n",
    "     \n",
    "Here is some JSON, it records the user details and it refers to the function \"record_user_details\".      \n",
    "There is \"name\" and \"description\"    \n",
    "and there are parameters \"email\" (required), \"name\" and \"notes\"     \n",
    "       \n",
    "It is way of describing what this function does so that the LLM can decide in its response whether or not it wants to call this tool"
   ]
  },
  {
   "cell_type": "code",
   "execution_count": 8,
   "id": "d3a83735-514b-46f9-ae2d-da1e6c5505b1",
   "metadata": {},
   "outputs": [],
   "source": [
    "record_user_details_json = {\n",
    "    \"name\": \"record_user_details\",\n",
    "    \"description\": \"Use this tool to record that a user is interested in being in touch and provided an email address\",\n",
    "    \"parameters\": {\n",
    "        \"type\": \"object\",\n",
    "        \"properties\": {\n",
    "            \"email\": {\n",
    "                \"type\": \"string\",\n",
    "                \"description\": \"The email address of this user\"\n",
    "            },\n",
    "            \"name\": {\n",
    "                \"type\": \"string\",\n",
    "                \"description\": \"The user's name, if they provided it\"\n",
    "            }\n",
    "            ,\n",
    "            \"notes\": {\n",
    "                \"type\": \"string\",\n",
    "                \"description\": \"Any additional information about the conversation that's worth recording to give context\"\n",
    "            }\n",
    "        },\n",
    "        \"required\": [\"email\"],\n",
    "        \"additionalProperties\": False\n",
    "    }\n",
    "}"
   ]
  },
  {
   "cell_type": "markdown",
   "id": "7c8ca02b-ad86-4b27-a3b5-8c7a1893e162",
   "metadata": {},
   "source": [
    "This JSON for the function \"record_unknown_question\""
   ]
  },
  {
   "cell_type": "code",
   "execution_count": 9,
   "id": "ec979a41-69de-4a93-9d42-053700422c6f",
   "metadata": {},
   "outputs": [],
   "source": [
    "record_unknown_question_json = {\n",
    "    \"name\": \"record_unknown_question\",\n",
    "    \"description\": \"Always use this tool to record any question that couldn't be answered as you didn't know the answer\",\n",
    "    \"parameters\": {\n",
    "        \"type\": \"object\",\n",
    "        \"properties\": {\n",
    "            \"question\": {\n",
    "                \"type\": \"string\",\n",
    "                \"description\": \"The question that couldn't be answered\"\n",
    "            },\n",
    "        },\n",
    "        \"required\": [\"question\"],\n",
    "        \"additionalProperties\": False\n",
    "    }\n",
    "}"
   ]
  },
  {
   "cell_type": "markdown",
   "id": "69e68b4b-ca46-451a-9317-2af7de24f232",
   "metadata": {},
   "source": [
    "Final step for this is that we're going to put both of these blobs of JSON into a list of tools."
   ]
  },
  {
   "cell_type": "code",
   "execution_count": 10,
   "id": "e60f1866-0464-483c-9e65-ddac27b322a6",
   "metadata": {},
   "outputs": [],
   "source": [
    "tools = [{\"type\": \"function\", \"function\": record_user_details_json},\n",
    "        {\"type\": \"function\", \"function\": record_unknown_question_json}]"
   ]
  },
  {
   "cell_type": "code",
   "execution_count": 11,
   "id": "f429761b-3367-4279-b04d-04cc516b46d8",
   "metadata": {},
   "outputs": [
    {
     "data": {
      "text/plain": [
       "[{'type': 'function',\n",
       "  'function': {'name': 'record_user_details',\n",
       "   'description': 'Use this tool to record that a user is interested in being in touch and provided an email address',\n",
       "   'parameters': {'type': 'object',\n",
       "    'properties': {'email': {'type': 'string',\n",
       "      'description': 'The email address of this user'},\n",
       "     'name': {'type': 'string',\n",
       "      'description': \"The user's name, if they provided it\"},\n",
       "     'notes': {'type': 'string',\n",
       "      'description': \"Any additional information about the conversation that's worth recording to give context\"}},\n",
       "    'required': ['email'],\n",
       "    'additionalProperties': False}}},\n",
       " {'type': 'function',\n",
       "  'function': {'name': 'record_unknown_question',\n",
       "   'description': \"Always use this tool to record any question that couldn't be answered as you didn't know the answer\",\n",
       "   'parameters': {'type': 'object',\n",
       "    'properties': {'question': {'type': 'string',\n",
       "      'description': \"The question that couldn't be answered\"}},\n",
       "    'required': ['question'],\n",
       "    'additionalProperties': False}}}]"
      ]
     },
     "execution_count": 11,
     "metadata": {},
     "output_type": "execute_result"
    }
   ],
   "source": [
    "tools"
   ]
  },
  {
   "cell_type": "code",
   "execution_count": 12,
   "id": "20de43a4-e889-4d72-ba45-4fb39ffc654a",
   "metadata": {},
   "outputs": [
    {
     "name": "stdout",
     "output_type": "stream",
     "text": [
      "[{'type': 'function', 'function': {'name': 'record_user_details', 'description': 'Use this tool to record that a user is interested in being in touch and provided an email address', 'parameters': {'type': 'object', 'properties': {'email': {'type': 'string', 'description': 'The email address of this user'}, 'name': {'type': 'string', 'description': \"The user's name, if they provided it\"}, 'notes': {'type': 'string', 'description': \"Any additional information about the conversation that's worth recording to give context\"}}, 'required': ['email'], 'additionalProperties': False}}}, {'type': 'function', 'function': {'name': 'record_unknown_question', 'description': \"Always use this tool to record any question that couldn't be answered as you didn't know the answer\", 'parameters': {'type': 'object', 'properties': {'question': {'type': 'string', 'description': \"The question that couldn't be answered\"}}, 'required': ['question'], 'additionalProperties': False}}}]\n"
     ]
    }
   ],
   "source": [
    "print(tools)"
   ]
  },
  {
   "cell_type": "markdown",
   "id": "b911ed57-977c-4410-b15a-ba31df225bc9",
   "metadata": {},
   "source": [
    "****arguments** - are used in function definition to collect additional keyword arguments as a dictionary      \n",
    "result = record_user_details(**arguments)       \n",
    "      \n",
    "Also, note the \"If\" statements (Tool is just JSON and IF statemsnts)"
   ]
  },
  {
   "cell_type": "code",
   "execution_count": 13,
   "id": "da62b7c8-b3d1-413d-9bc7-172eb4367e37",
   "metadata": {},
   "outputs": [],
   "source": [
    "# This function can take a list of tool calls, and run them. This is the IF statement!!\n",
    "\n",
    "def handle_tool_calls(tool_calls):\n",
    "    results = []\n",
    "    for tool_call in tool_calls:\n",
    "        tool_name = tool_call.function.name\n",
    "        arguments = json.loads(tool_call.function.arguments)\n",
    "        print(f\"Tool called: {tool_name}\", flush=True)\n",
    "\n",
    "        # THE BIG IF STATEMENT!!!\n",
    "\n",
    "        if tool_name == \"record_user_details\":\n",
    "            result = record_user_details(**arguments)\n",
    "        elif tool_name == \"record_unknown_question\":\n",
    "            result = record_unknown_question(**arguments)\n",
    "\n",
    "        results.append({\"role\": \"tool\",\"content\": json.dumps(result),\"tool_call_id\": tool_call.id})\n",
    "    return results"
   ]
  },
  {
   "cell_type": "markdown",
   "id": "a3fb2eed-f480-471b-84c5-7fb437a73d05",
   "metadata": {},
   "source": [
    "globals which gives you a dictionary which you can use to look up any function which is in the global scope.      \n",
    "     \n",
    "**globals()** function is used to return the global symbol table – a dictionary representing all the global variables in the current module or script"
   ]
  },
  {
   "cell_type": "code",
   "execution_count": 15,
   "id": "56485c97-fb5a-4a51-a446-fced6b430e08",
   "metadata": {},
   "outputs": [],
   "source": [
    "# globals()"
   ]
  },
  {
   "cell_type": "code",
   "execution_count": 19,
   "id": "dc765e60-e561-452b-8dd6-3c7a67b6fce7",
   "metadata": {},
   "outputs": [],
   "source": [
    "#locals()"
   ]
  },
  {
   "cell_type": "code",
   "execution_count": 16,
   "id": "83542e02-d41b-4569-9695-b225f52d7985",
   "metadata": {},
   "outputs": [
    {
     "name": "stdout",
     "output_type": "stream",
     "text": [
      "Push: Recording this is a really hard question asked that I couldn't answer\n"
     ]
    },
    {
     "data": {
      "text/plain": [
       "{'recorded': 'ok'}"
      ]
     },
     "execution_count": 16,
     "metadata": {},
     "output_type": "execute_result"
    }
   ],
   "source": [
    "globals()[\"record_unknown_question\"](\"this is a really hard question\")"
   ]
  },
  {
   "cell_type": "markdown",
   "id": "073bea54-1b60-4fa3-bf6b-b7361dd0ec01",
   "metadata": {},
   "source": [
    "So replace the following if statement code with \"global\"         \n",
    "\n",
    "        if tool_name == \"record_user_details\":\n",
    "            result = record_user_details(**arguments)\n",
    "        elif tool_name == \"record_unknown_question\":\n",
    "            result = record_unknown_question(**arguments)       \n",
    "\n",
    "tool = globals().get(tool_name)"
   ]
  },
  {
   "cell_type": "code",
   "execution_count": 17,
   "id": "25763416-cd77-4031-8b12-c5e3f1a02003",
   "metadata": {},
   "outputs": [],
   "source": [
    "# This is a more elegant way that avoids the IF statement.\n",
    "\n",
    "def handle_tool_calls(tool_calls):\n",
    "    results = []\n",
    "    for tool_call in tool_calls:\n",
    "        tool_name = tool_call.function.name\n",
    "        arguments = json.loads(tool_call.function.arguments)\n",
    "        print(f\"Tool called: {tool_name}\", flush=True)\n",
    "        tool = globals().get(tool_name)\n",
    "        result = tool(**arguments) if tool else {}\n",
    "        results.append({\"role\": \"tool\",\"content\": json.dumps(result),\"tool_call_id\": tool_call.id})\n",
    "    return results"
   ]
  },
  {
   "cell_type": "markdown",
   "id": "e1e39618-75a8-4cc9-a51f-54025e5db1d4",
   "metadata": {},
   "source": [
    "We now read the LinkedIn profile And then we bring in the summary text."
   ]
  },
  {
   "cell_type": "code",
   "execution_count": 20,
   "id": "ddb290fb-0135-4d76-ac0e-8f905317674a",
   "metadata": {},
   "outputs": [],
   "source": [
    "reader = PdfReader(\"me/linkedin.pdf\")\n",
    "linkedin = \"\"\n",
    "for page in reader.pages:\n",
    "    text = page.extract_text()\n",
    "    if text:\n",
    "        linkedin += text\n",
    "\n",
    "with open(\"me/summary.txt\", \"r\", encoding=\"utf-8\") as f:\n",
    "    summary = f.read()\n",
    "\n",
    "name = \"Ed Donner\""
   ]
  },
  {
   "cell_type": "code",
   "execution_count": 21,
   "id": "ca1c8b48-2136-47b3-8424-c1c2279733ee",
   "metadata": {},
   "outputs": [],
   "source": [
    "system_prompt = f\"You are acting as {name}. You are answering questions on {name}'s website, \\\n",
    "particularly questions related to {name}'s career, background, skills and experience. \\\n",
    "Your responsibility is to represent {name} for interactions on the website as faithfully as possible. \\\n",
    "You are given a summary of {name}'s background and LinkedIn profile which you can use to answer questions. \\\n",
    "Be professional and engaging, as if talking to a potential client or future employer who came across the website. \\\n",
    "If you don't know the answer to any question, use your record_unknown_question tool to record the question that you couldn't answer, even if it's about something trivial or unrelated to career. \\\n",
    "If the user is engaging in discussion, try to steer them towards getting in touch via email; ask for their email and record it using your record_user_details tool. \"\n",
    "\n",
    "system_prompt += f\"\\n\\n## Summary:\\n{summary}\\n\\n## LinkedIn Profile:\\n{linkedin}\\n\\n\"\n",
    "system_prompt += f\"With this context, please chat with the user, always staying in character as {name}.\""
   ]
  },
  {
   "cell_type": "markdown",
   "id": "0e461f05-cc0a-4f48-b9eb-fb7c29597f78",
   "metadata": {},
   "source": [
    "Note the part \"if you don't know the answer to any question, use your tool to record the question\"      \n",
    "\"And if the user is engaging in discussion, try to steer them towards getting in touch via email.\"      \n",
    "actually this is not required, as the JSON describes this already but gives kind of context and describes"
   ]
  },
  {
   "cell_type": "code",
   "execution_count": 22,
   "id": "a8faa9f0-4a9b-44e4-acde-d51162a52eaa",
   "metadata": {},
   "outputs": [],
   "source": [
    "def chat(message, history):\n",
    "    messages = [{\"role\": \"system\", \"content\": system_prompt}] + history + [{\"role\": \"user\", \"content\": message}]\n",
    "    done = False\n",
    "    while not done:\n",
    "\n",
    "        # This is the call to the LLM - see that we pass in the tools json\n",
    "\n",
    "        response = openai.chat.completions.create(model=\"gpt-4o-mini\", messages=messages, tools=tools)\n",
    "\n",
    "        finish_reason = response.choices[0].finish_reason\n",
    "        \n",
    "        # If the LLM wants to call a tool, we do that!\n",
    "         \n",
    "        if finish_reason==\"tool_calls\":\n",
    "            message = response.choices[0].message\n",
    "            tool_calls = message.tool_calls\n",
    "            results = handle_tool_calls(tool_calls)\n",
    "            messages.append(message)\n",
    "            messages.extend(results)\n",
    "        else:\n",
    "            done = True\n",
    "    return response.choices[0].message.content"
   ]
  },
  {
   "cell_type": "code",
   "execution_count": 23,
   "id": "c19b963e-4dfd-41a3-96f4-ae6db4773144",
   "metadata": {},
   "outputs": [
    {
     "name": "stdout",
     "output_type": "stream",
     "text": [
      "* Running on local URL:  http://127.0.0.1:7862\n",
      "\n",
      "To create a public link, set `share=True` in `launch()`.\n"
     ]
    },
    {
     "data": {
      "text/html": [
       "<div><iframe src=\"http://127.0.0.1:7862/\" width=\"100%\" height=\"500\" allow=\"autoplay; camera; microphone; clipboard-read; clipboard-write;\" frameborder=\"0\" allowfullscreen></iframe></div>"
      ],
      "text/plain": [
       "<IPython.core.display.HTML object>"
      ]
     },
     "metadata": {},
     "output_type": "display_data"
    },
    {
     "data": {
      "text/plain": []
     },
     "execution_count": 23,
     "metadata": {},
     "output_type": "execute_result"
    }
   ],
   "source": [
    "gr.ChatInterface(chat, type=\"messages\").launch()"
   ]
  },
  {
   "cell_type": "markdown",
   "id": "c895bbae-0496-4ecb-af70-965208e611bb",
   "metadata": {},
   "source": [
    "\"Hi There\"       \n",
    "\"What is your job?\"        \n",
    "\"Do you have a patent?\"      \n",
    "\"Who is your favorite musician?\" - should send a message to the phone \"Recording who is your favorite musician? asked that I couldn't answer\"         \n",
    "\"I'm at csowm5je@yahoo.com\" - should send a message to the phone \"Recording interest from Name not provided with email csowm5je@yahoo.com and notes not provided\"      "
   ]
  },
  {
   "cell_type": "markdown",
   "id": "58f8d3fc-2aac-438c-8818-bda6bd4903c5",
   "metadata": {},
   "source": [
    "### Deployment \n",
    "Create an app.py with these code     \n",
    "It's got the same information in here, but organized into nice little functions at the top of the functions that cover the tools that we call.       \n",
    "And then there is a \"class Me\" as in me or or you. And that's something which has the handle tool call that we know so well that's right here.     \n",
    "      \n",
    "At the bottom,  we have the Gradio code.       \n",
    "if __name__ == \"__main__\":         \n",
    "    me = Me()      \n",
    "    gr.ChatInterface(me.chat, type=\"messages\").launch()       \n",
    "    "
   ]
  },
  {
   "cell_type": "markdown",
   "id": "66e0412a-2b50-4107-bdfc-7d432e21859c",
   "metadata": {},
   "source": [
    "#### to run locally"
   ]
  },
  {
   "cell_type": "markdown",
   "id": "291a16b2-5c04-4987-b8a9-a6c08ba8b4d8",
   "metadata": {},
   "source": [
    "Go to the terminal and      \n",
    "$> uv run app.py          \n",
    "\n",
    "It should be running at 127.0.0.1:7861"
   ]
  },
  {
   "cell_type": "markdown",
   "id": "b7f7e9c2-a660-4d1d-925f-845d16b1ec3f",
   "metadata": {},
   "source": [
    "## And now for deployment\n",
    "\n",
    "This code is in `app.py`\n",
    "\n",
    "We will deploy to HuggingFace Spaces:\n",
    "\n",
    "1. Visit https://huggingface.co and set up an account  \n",
    "2. From the 1_foundations folder, enter: `gradio deploy`  \n",
    "3. Follow the instructions: name it \"career_conversation\", specify app.py, choose cpu-basic as the hardware, say Yes to needing to supply secrets, provide your openai api key, your pushover user and token, and say \"no\" to github actions.\n",
    "\n",
    "And you're deployed!\n",
    "\n",
    "Here is mine: https://huggingface.co/spaces/ed-donner/Career_Conversation\n",
    "\n",
    "For more information on deployment:\n",
    "\n",
    "https://www.gradio.app/guides/sharing-your-app#hosting-on-hf-spaces\n",
    "  \n"
   ]
  },
  {
   "cell_type": "markdown",
   "id": "5b3a38b1-cd49-4491-8ece-3272dc428c38",
   "metadata": {},
   "source": [
    "### Terminal"
   ]
  },
  {
   "cell_type": "markdown",
   "id": "16b8c85d-5660-454f-af2a-227132be8e82",
   "metadata": {},
   "source": [
    "$> gradio deploy       \n",
    "\n",
    "Creating new Spaces Repo in       \n",
    "'D:\\Agentic_AI-Engineering\\1_foundations'. Collecting metadata,       \n",
    "press Enter to accept default value.       \n",
    "Enter Spaces app title [1_foundations]: career_conversation       \n",
    "Enter Gradio app file [app.py]:        \n",
    "Enter Spaces hardware (cpu-basic, cpu-upgrade, cpu-xl, zero-a10g, t4-small, t4-medium, l4x1, l4x4, l40sx1, l40sx4, l40sx8, a10g-small, a10g-large, a10g-largex2, a10g-largex4, a100-large, h100, h100x8, v5e-1x1, v5e-2x2, v5e-2x4) [cpu-basic]: cpu-basic       \n",
    "Any Spaces secrets (y/n) [n]: y      \n",
    "Enter secret name (leave blank to end): OPENAI_API_KEY      \n",
    "Enter secret value for OPENAI_API_KEY: sk-proj-      \n",
    "Enter secret name (leave blank to end): PUSHOVER_USER       \n",
    "Enter secret value for PUSHOVER_USER: ui      \n",
    "Enter secret name (leave blank to end): PUSHOVER_TOKEN       \n",
    "Enter secret value for PUSHOVER_TOKEN: a      \n",
    "Enter secret name (leave blank to end):      \n",
    "Create requirements.txt file? (y/n) [n]: n      \n",
    "Create Github Action to automatically update Space on 'git push'? [n]: n      \n",
    "Space available at https://huggingface.co/spaces/ranjitsolo/career_conversation      \n",
    "     \n",
    "Got an Error     \n",
    "ModuleNotFoundError: No module named 'dotenv'      "
   ]
  },
  {
   "cell_type": "code",
   "execution_count": null,
   "id": "ea330a45-fe56-411a-9cf1-47e8ebd13893",
   "metadata": {},
   "outputs": [],
   "source": []
  }
 ],
 "metadata": {
  "kernelspec": {
   "display_name": "Python 3 (ipykernel)",
   "language": "python",
   "name": "python3"
  },
  "language_info": {
   "codemirror_mode": {
    "name": "ipython",
    "version": 3
   },
   "file_extension": ".py",
   "mimetype": "text/x-python",
   "name": "python",
   "nbconvert_exporter": "python",
   "pygments_lexer": "ipython3",
   "version": "3.12.7"
  }
 },
 "nbformat": 4,
 "nbformat_minor": 5
}
