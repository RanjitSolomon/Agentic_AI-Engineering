{
 "cells": [
  {
   "cell_type": "markdown",
   "id": "96814b26",
   "metadata": {},
   "source": [
    "# Agentic AI Frameworks"
   ]
  },
  {
   "cell_type": "markdown",
   "id": "597ce722",
   "metadata": {},
   "source": [
    "### Some Autonomous AI agents \n",
    "\n",
    "#### n8n.io\n",
    "This is an example of one of these low code or no code workflow apps that allows you to construct a workflow of orchestrating between different applications and build it without necessarily needing to write any code yourself.      \n",
    "      \n",
    "The difference with some of the other workflow tools like this is that it has generative AI built into it.      \n",
    "\n",
    "- Create a workflow\n",
    "- Add first step\n",
    "- On Chat Message\n",
    "- Go back to canvas (Left Top Arrow)\n",
    "- Click the \"+\" button beside the chat icon\n",
    "- AI\n",
    "- AI Agent\n",
    "- Go back to canvas\n",
    "- Click the \"+\" chat model button on AI Agent icon\n",
    "- OpenAI Chat Model and add credentials\n",
    "- Add a Tool  Philips Hue\n",
    "      \n",
    "![](../images/1/n8n.png)"
   ]
  },
  {
   "cell_type": "markdown",
   "id": "28345862",
   "metadata": {},
   "source": [
    "### AI Agent Frameworks       \n",
    "- OpenAI SDK\n",
    "- CrewAI\n",
    "- LangGraph\n",
    "- AutoGen\n",
    "- MCP"
   ]
  },
  {
   "cell_type": "markdown",
   "id": "50fbe6a6",
   "metadata": {},
   "source": [
    "Projects are in Yellow \n",
    "      \n",
    "![](../images/1/AI_Course.png)"
   ]
  },
  {
   "cell_type": "markdown",
   "id": "0b9b5ffe",
   "metadata": {},
   "source": [
    "#### Project 5\n",
    "Agentic platform that represent a whole engineering team.      \n",
    "Front end developer, Back end developer, and a tester          \n",
    "      \n",
    "#### Project 6 \n",
    "Sidekick - Interaction with a browser (similar to Manus)     \n",
    "            \n",
    "#### Project 7 \n",
    "Creator - an Agentic Framework that creates new agents     \n",
    "      \n",
    "#### Project 8  \n",
    "Financial Market Simulator, trading simulator that makes investment decisions     \n",
    "Searching for Financial news, real time stock prices and company annual reports, SEC filing and then make buy/sell decisions     \n",
    "The code will be written by Project 5"
   ]
  },
  {
   "cell_type": "markdown",
   "id": "9759b3f4",
   "metadata": {},
   "source": [
    "### Setting up the environment \n",
    "\n",
    "#### Enabling Long Filenames (more than 260 characters)\n",
    "Win + R, gpedit.msc       \n",
    "Computer Configuration → Administrative Templates → System → Filesystem, \"Enable Win32 long paths\" Select \"Enabled\"            \n",
    "OR       \n",
    "Win + R, \"regedit\" - HKEY_LOCAL_MACHINE\\SYSTEM\\CurrentControlSet\\Control\\FileSystem, Find \"LongPathsEnabled\", set Value data to 1       \n",
    "(if it doesn't exist, right-click, New - DWORD(32-bit) and name it \"LongPathsEnabled\")       \n",
    "OR        \n",
    "In Powershell - Set-ItemProperty -Path \"HKLM:\\SYSTEM\\CurrentControlSet\\Control\\FileSystem\" -Name \"LongPathsEnabled\" -Value 1 -Type DWord        \n",
    "        \n",
    "\n",
    "- Copy the Github repository\n",
    "- Install Cursor https://www.cursor.com/\n",
    "- Install UV\n",
    "- CD into the repo and \"uv sync\"\n",
    "- Get OpenAI key\n",
    "- Add to .env "
   ]
  },
  {
   "cell_type": "markdown",
   "id": "4010abda",
   "metadata": {},
   "source": [
    "### Comparing AI Agent Frameworks: Simplicity vs Power in LLM Orchestration"
   ]
  },
  {
   "cell_type": "markdown",
   "id": "9cc92e13",
   "metadata": {},
   "source": [
    "- No Framework\n",
    "- MCP\n",
    "- OpenAIAgents SDK\n",
    "- Crew AI\n",
    "- LangGraph\n",
    "- AutoGen\n",
    "\n",
    "------------ \n",
    "- Smolagents\n",
    "- PydanticAI\n",
    "- ------------\n",
    "      \n",
    "MCP - Anthropic - Model Context Protocol, models to connected to sources of data and tools       \n",
    "OpenAI Agents SDK - OpenAI, lightweight, simple, clean and flexible       \n",
    "CrewAI - Configuration through YAML files        \n",
    "LangGraph - LangChain, heavyweight, steeper learning curve, signing up for ecosystem, teminology and concepts.        \n",
    "AutoGen from Microsoft, heavyweight, steeper learning curve, signing up for ecosystem, teminology and concepts.     "
   ]
  },
  {
   "cell_type": "markdown",
   "id": "f8fc7d3d",
   "metadata": {},
   "source": [
    "### Resources vs Tools: Two ways to Enhance LLM Capabilities in Agentic AI"
   ]
  },
  {
   "cell_type": "markdown",
   "id": "15eda227",
   "metadata": {},
   "source": [
    "### Resources\n",
    "Resources are a way that you can get more our of your agents.        \n",
    "You can equip your agents to be able to solve your problems better, along with tools.      \n",
    "       \n",
    "And resources is really just a fancy way of saying that you can improve the effectiveness of a LLM by providing it with more context, more information to improve its expertise.         \n",
    "So it's nothing more fancy than just saying we can just put extra context, extra information in the prompt, We send an LM and think of that as a resource that We're providing to the LLM.       \n",
    "      \n",
    "RAG - Retrival Augmented Generation - Retrieving Relevant Context      \n",
    "       \n",
    "### Tools     \n",
    "When you give an LLM the power to do something, to use a tool and the key trick to give an LLM some autonomy.      \n",
    "Like querying SQL database or send a message to another LLM to do something.     \n",
    "      \n",
    "In practice, in the prompt, just list out everything that LLM's able to ask for and you tell it to respond in JSON if it wants you to do something.         \n",
    "       \n",
    "\"you're a support agent for an airline. You answer users questions. You have the ability to query ticket prices. Just respond only 'Use tool to fetch ticket price for London', to retrieve the ticket price for London, or for a city that you name.       \n",
    "Here's the user question\"        \n",
    "     \n",
    "User: I'd like to go to Paris. How much  is a flight?   "
   ]
  },
  {
   "cell_type": "markdown",
   "id": "4219a44a",
   "metadata": {},
   "source": []
  },
  {
   "cell_type": "code",
   "execution_count": 1,
   "id": "f3d6db08",
   "metadata": {},
   "outputs": [],
   "source": [
    "from dotenv import load_dotenv"
   ]
  },
  {
   "cell_type": "code",
   "execution_count": 2,
   "id": "3210e4d2",
   "metadata": {},
   "outputs": [
    {
     "data": {
      "text/plain": [
       "True"
      ]
     },
     "execution_count": 2,
     "metadata": {},
     "output_type": "execute_result"
    }
   ],
   "source": [
    "load_dotenv(override=True)"
   ]
  },
  {
   "cell_type": "code",
   "execution_count": 4,
   "id": "580fe743",
   "metadata": {},
   "outputs": [
    {
     "name": "stdout",
     "output_type": "stream",
     "text": [
      "OpenAI API Key exists and begins sk-proj-\n"
     ]
    }
   ],
   "source": [
    "import os \n",
    "openai_api_key = os.getenv('OPENAI_API_KEY') \n",
    "\n",
    "if openai_api_key:\n",
    "    print(f\"OpenAI API Key exists and begins {openai_api_key[:8]}\")\n",
    "else:\n",
    "    print(\"OpenAI API Key not set \")"
   ]
  },
  {
   "cell_type": "code",
   "execution_count": 5,
   "id": "81e4eb69",
   "metadata": {},
   "outputs": [],
   "source": [
    "from openai import OpenAI "
   ]
  },
  {
   "cell_type": "code",
   "execution_count": 6,
   "id": "25caceb1",
   "metadata": {},
   "outputs": [],
   "source": [
    "openai = OpenAI()"
   ]
  },
  {
   "cell_type": "code",
   "execution_count": 7,
   "id": "b63efe04",
   "metadata": {},
   "outputs": [],
   "source": [
    "# OpenAI format messages \n",
    "messages = [{\"role\": \"user\", \"content\": \"What is 2+2?\"}] "
   ]
  },
  {
   "cell_type": "code",
   "execution_count": 8,
   "id": "34352f7c",
   "metadata": {},
   "outputs": [
    {
     "name": "stdout",
     "output_type": "stream",
     "text": [
      "2 + 2 equals 4.\n"
     ]
    }
   ],
   "source": [
    "response = openai.chat.completions.create(\n",
    "    model='gpt-4o-mini',\n",
    "    messages=messages\n",
    ")\n",
    "\n",
    "print(response.choices[0].message.content)"
   ]
  },
  {
   "cell_type": "code",
   "execution_count": 9,
   "id": "4505b3ad",
   "metadata": {},
   "outputs": [],
   "source": [
    "question = \"Please propose a hard, challenging question to assess someone's IQ. Respond only with the question.\" \n",
    "messages = [{'role': \"user\", 'content': question}]"
   ]
  },
  {
   "cell_type": "code",
   "execution_count": 10,
   "id": "886a2e9c",
   "metadata": {},
   "outputs": [
    {
     "name": "stdout",
     "output_type": "stream",
     "text": [
      "If a train leaves station A traveling at 60 miles per hour and another train leaves station B, 300 miles away, traveling toward station A at 90 miles per hour, how far from station A will the trains meet?\n"
     ]
    }
   ],
   "source": [
    "response = openai.chat.completions.create(\n",
    "    model='gpt-4o-mini',\n",
    "    messages=messages\n",
    ")\n",
    "question = response.choices[0].message.content \n",
    "print(question)"
   ]
  },
  {
   "cell_type": "code",
   "execution_count": 11,
   "id": "fcbba596",
   "metadata": {},
   "outputs": [],
   "source": [
    "messages = [{'role': \"user\", 'content': question}]\n",
    "\n",
    "response = openai.chat.completions.create(\n",
    "    model='gpt-4o-mini',\n",
    "    messages=messages\n",
    ")\n",
    "\n",
    "answer = response.choices[0].message.content  "
   ]
  },
  {
   "cell_type": "code",
   "execution_count": 12,
   "id": "54a3ffc4",
   "metadata": {},
   "outputs": [
    {
     "data": {
      "text/markdown": [
       "To find the distance from station A where the two trains meet, we can set up an equation based on their speeds and the distance between them.\n",
       "\n",
       "Let:\n",
       "- \\( d \\) be the distance from station A where the two trains meet.\n",
       "- \\( t \\) be the time in hours until they meet.\n",
       "\n",
       "The first train (from station A) travels at 60 miles per hour, so the distance it travels in time \\( t \\) is:\n",
       "\\[\n",
       "d = 60t\n",
       "\\]\n",
       "\n",
       "The second train (from station B) travels at 90 miles per hour. Since it starts 300 miles away from station A, the distance it travels in time \\( t \\) is:\n",
       "\\[\n",
       "300 - d = 90t\n",
       "\\]\n",
       "\n",
       "Now we have two equations:\n",
       "1. \\( d = 60t \\)\n",
       "2. \\( 300 - d = 90t \\)\n",
       "\n",
       "We can substitute the expression for \\( d \\) from the first equation into the second equation:\n",
       "\\[\n",
       "300 - 60t = 90t\n",
       "\\]\n",
       "\n",
       "Now, solve for \\( t \\):\n",
       "\\[\n",
       "300 = 90t + 60t\n",
       "\\]\n",
       "\\[\n",
       "300 = 150t\n",
       "\\]\n",
       "\\[\n",
       "t = \\frac{300}{150} = 2 \\text{ hours}\n",
       "\\]\n",
       "\n",
       "Now we can find the distance \\( d \\) from station A:\n",
       "\\[\n",
       "d = 60t = 60 \\times 2 = 120 \\text{ miles}\n",
       "\\]\n",
       "\n",
       "Thus, the trains will meet **120 miles from station A**."
      ],
      "text/plain": [
       "<IPython.core.display.Markdown object>"
      ]
     },
     "metadata": {},
     "output_type": "display_data"
    }
   ],
   "source": [
    "from IPython.display import Markdown, display \n",
    "display(Markdown(answer))"
   ]
  },
  {
   "cell_type": "code",
   "execution_count": 13,
   "id": "5f8fb39c",
   "metadata": {},
   "outputs": [
    {
     "data": {
      "text/markdown": [
       "One promising business area to explore for an agentic AI opportunity is **real estate management**, particularly in property management and tenant relations.\n",
       "\n",
       "### Pain Point:\n",
       "**Tenant Communication and Management**: Managing tenant requests, complaints, and communication can be time-consuming and resource-intensive. Property managers often face challenges in maintaining efficient communication, scheduling maintenance, addressing tenant inquiries, and ensuring tenant satisfaction. Traditional methods involve manual processes and multiple communication channels, leading to delays and frustrations for both tenants and property managers.\n",
       "\n",
       "### Opportunity:\n",
       "An agentic AI solution could automate and streamline tenant communication and property management tasks. This could include:\n",
       "\n",
       "1. **Chatbots for 24/7 Support**: AI-driven chatbots that can handle common tenant inquiries, provide information about lease agreements, community guidelines, and help schedule maintenance requests instantly.\n",
       "\n",
       "2. **Predictive Maintenance**: Using AI to analyze usage patterns and maintenance requests to proactively address potential issues before they escalate, thereby improving tenant satisfaction and reducing costs for landlords.\n",
       "\n",
       "3. **Automated Lease Management**: AI systems that simplify lease renewals, automate reminders for renewals, and assist in processing applications for new tenants, reducing the workload on property managers.\n",
       "\n",
       "4. **Data Analytics for Better Decision-Making**: Providing insights into tenant behaviors and preferences, enabling property managers to make informed decisions regarding property improvements, rent adjustments, or tenant retention strategies.\n",
       "\n",
       "By leveraging AI, real estate management companies can enhance tenant satisfaction, reduce operational inefficiencies, and allow property managers to focus on higher-value tasks. This could lead to increased occupancy rates, reduced turnover, and better overall management of properties."
      ],
      "text/plain": [
       "<IPython.core.display.Markdown object>"
      ]
     },
     "metadata": {},
     "output_type": "display_data"
    }
   ],
   "source": [
    "question = \"What is a business area that might be worth exploring for an agentic ai opportunity and present a pain-point in that industry\"   \n",
    "\n",
    "messages = [{'role': \"user\", 'content': question}]\n",
    "\n",
    "response = openai.chat.completions.create(\n",
    "    model='gpt-4o-mini',\n",
    "    messages=messages\n",
    ")\n",
    "\n",
    "answer = response.choices[0].message.content \n",
    "\n",
    "display(Markdown(answer))"
   ]
  },
  {
   "cell_type": "code",
   "execution_count": null,
   "id": "d5511eb8",
   "metadata": {},
   "outputs": [],
   "source": []
  }
 ],
 "metadata": {
  "kernelspec": {
   "display_name": "Python 3 (ipykernel)",
   "language": "python",
   "name": "python3"
  },
  "language_info": {
   "codemirror_mode": {
    "name": "ipython",
    "version": 3
   },
   "file_extension": ".py",
   "mimetype": "text/x-python",
   "name": "python",
   "nbconvert_exporter": "python",
   "pygments_lexer": "ipython3",
   "version": "3.10.11"
  }
 },
 "nbformat": 4,
 "nbformat_minor": 5
}
